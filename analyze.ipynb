{
 "cells": [
  {
   "cell_type": "code",
   "execution_count": 216,
   "metadata": {},
   "outputs": [
    {
     "data": {
      "text/plain": [
       "(5000, 8)"
      ]
     },
     "execution_count": 216,
     "metadata": {},
     "output_type": "execute_result"
    }
   ],
   "source": [
    "# Python 2 & 3 Compatibility\n",
    "from __future__ import print_function, division\n",
    "\n",
    "# Necessary imports\n",
    "import re\n",
    "import pandas as pd\n",
    "import numpy as np\n",
    "import patsy\n",
    "import seaborn as sns\n",
    "from seaborn import plt\n",
    "from sklearn.linear_model import Ridge, RidgeCV, ElasticNetCV, Lasso, LassoCV, ElasticNet\n",
    "from sklearn.model_selection import train_test_split\n",
    "from sklearn.cross_validation import cross_val_score\n",
    "from sklearn.utils import shuffle\n",
    "from sklearn.metrics import mean_squared_error, r2_score\n",
    "from scipy.stats import skew, kurtosis\n",
    "\n",
    "\n",
    "%matplotlib inline\n",
    "\n",
    "df = pd.read_csv('data_conso.csv', encoding='iso-8859-1')\n",
    "\n",
    "def av_wordlen(words):\n",
    "    wordlist = words.split(' ')\n",
    "    return np.mean([len(word) for word in wordlist])\n",
    "\n",
    "df.shape"
   ]
  },
  {
   "cell_type": "markdown",
   "metadata": {},
   "source": [
    "# Data Cleaning"
   ]
  },
  {
   "cell_type": "code",
   "execution_count": 217,
   "metadata": {},
   "outputs": [],
   "source": [
    "#adjust the target variable\n",
    "for i, value in enumerate(df['WEIGHTED']):\n",
    "    try:\n",
    "        float(str(value).split('/')[0])\n",
    "    except:\n",
    "        df.drop(i, inplace=True)\n",
    "\n",
    "#this beer has a null rating; drop it from the dataset\n",
    "df['WEIGHTED'] = df['WEIGHTED'].apply(lambda x: float(str(x).split('/')[0]))"
   ]
  },
  {
   "cell_type": "code",
   "execution_count": 218,
   "metadata": {
    "collapsed": true
   },
   "outputs": [],
   "source": [
    "#parse and impute values\n",
    "df['ABV'] = df['ABV'].apply(lambda x: (str(x).strip('%- ')))\n",
    "df['ABV'].replace('',np.nan, inplace=True)\n",
    "df['ABV'] = df['ABV'].apply(lambda x: float(x))\n",
    "df['ABV'] = df['ABV'].fillna(df['ABV'].mean())\n",
    "\n",
    "df['LOG_ABV'] = np.log(df['ABV'])\n",
    "\n",
    "df['Descr'] = df['Descr'].apply(lambda x: x.lower())\n",
    "\n",
    "df['CALORIES'] = df['CALORIES'].fillna(df['CALORIES'].mean())\n",
    "\n",
    "df['Title'] = df['Title'].apply(lambda x: x.split('(')[0])\n",
    "df['Title'] = df['Title'].apply(lambda x: x.split('\\r')[0])\n",
    "df['Title_longest_word'] = df['Title'].apply(lambda x: max([len(i) for i in x.split(' ')]))\n",
    "df['Title_shortest_word'] = df['Title'].apply(lambda x: min([len(i) for i in x.split(' ')]))\n",
    "df['Title_words'] = df['Title'].apply(lambda x: len(x.split(' '))) \n",
    "\n",
    "df['Style'] = df['Style:'].apply(lambda x: x.split('/')[0])\n",
    "df['Style'] = df['Style'].apply(lambda x: x.split('(')[0])\n",
    "df['Style'] = df['Style'].apply(lambda x: x.lower().strip())"
   ]
  },
  {
   "cell_type": "code",
   "execution_count": 157,
   "metadata": {},
   "outputs": [
    {
     "data": {
      "text/plain": [
       "WEIGHTED               1.000000\n",
       "LOG_ABV                0.527332\n",
       "CALORIES               0.503974\n",
       "ABV                    0.500146\n",
       "Title_words            0.201007\n",
       "Title_longest_word     0.107394\n",
       "Title_shortest_word   -0.098747\n",
       "Name: WEIGHTED, dtype: float64"
      ]
     },
     "execution_count": 157,
     "metadata": {},
     "output_type": "execute_result"
    }
   ],
   "source": [
    "#Select the features with the highest correlations\n",
    "df.corr()['WEIGHTED'].sort_values(ascending=False)"
   ]
  },
  {
   "cell_type": "code",
   "execution_count": 123,
   "metadata": {
    "collapsed": true
   },
   "outputs": [],
   "source": [
    "#isolate description keywords\n",
    "import string\n",
    "from nltk.stem.snowball import SnowballStemmer\n",
    "from nltk.corpus import stopwords\n",
    "from collections import defaultdict\n",
    "\n",
    "stemmer = SnowballStemmer(\"english\", ignore_stopwords=True)\n",
    "\n",
    "word_counts = defaultdict(int)\n",
    "excl = set(string.punctuation)\n",
    "stop = stopwords.words('english')\n",
    "\n",
    "for val in df['Descr']:\n",
    "    val2 = ''.join(ch for ch in val if ch not in excl)\n",
    "    for word in val2.split(' '):\n",
    "        if len(word) > 3 and word not in stop:\n",
    "            word_counts[stemmer.stem(word)] += 1\n",
    "\n",
    "word_tup =  sorted([(a,word_counts[a]) for a in word_counts], key=lambda x: x[1], reverse=True)[2:]\n"
   ]
  },
  {
   "cell_type": "code",
   "execution_count": 219,
   "metadata": {},
   "outputs": [],
   "source": [
    "word_tup = list(filter(lambda x: x[1] > 100, word_tup))\n",
    "\n",
    "keywords = [a[0] for a in word_tup]\n",
    "best_words = []\n",
    "\n",
    "for word in keywords:\n",
    "    dat = pd.Series(df['Descr'].apply(lambda x: str(word) in x))\n",
    "    if dat.corr(df['WEIGHTED'], method='pearson') > 0.1 and len(word) > 3:\n",
    "        best_words.append(word)\n",
    "\n",
    "for word in best_words:\n",
    "    df[word] = df['Descr'].apply(lambda x: str(word) in x)"
   ]
  },
  {
   "cell_type": "code",
   "execution_count": 251,
   "metadata": {},
   "outputs": [
    {
     "name": "stdout",
     "output_type": "stream",
     "text": [
      "0.381676335267\n"
     ]
    },
    {
     "data": {
      "text/plain": [
       "79"
      ]
     },
     "execution_count": 251,
     "metadata": {},
     "output_type": "execute_result"
    }
   ],
   "source": [
    "# If we want to see what happens when we consider IBU\n",
    "'''\n",
    "df['IBU'] = df['IBU'].apply(lambda x: ''.join([c for c in str(x) if c in '1234567890']))\n",
    "df['IBU'].replace('', np.nan, inplace=True)\n",
    "df['IBU'] = df['IBU'].apply(lambda x: float(x))\n",
    "df['IBU'] = df['IBU'].fillna(0)''';\n",
    "\n",
    "#IBU is basically useless: Only 38% of data even has a value\n",
    "print(sum(1-df['IBU'].isnull())/len(df['IBU']))\n",
    "\n",
    "len(df['Style'].unique())"
   ]
  },
  {
   "cell_type": "code",
   "execution_count": 252,
   "metadata": {
    "collapsed": true
   },
   "outputs": [],
   "source": [
    "#get dummy variables and drop unnecessary columns\n",
    "\n",
    "X=patsy.dmatrix('Place',data=df,return_type='dataframe')\n",
    "df2 = pd.concat([df,X], axis=1)\n",
    "X=patsy.dmatrix('Style',data=df,return_type='dataframe')\n",
    "\n",
    "df2['Int'] = df2['Intercept']\n",
    "\n",
    "cols_to_drop = ['Title', 'Place', 'Style', 'Style:', 'Descr', 'Intercept', 'Int', 'ABV', 'IBU', 'CALORIES']\n",
    "#CALORIES and ABV are highly correlated\n",
    "\n",
    "df2 = pd.concat([df2,X], axis=1)\n",
    "df2 = df2.drop(cols_to_drop, axis=1)\n"
   ]
  },
  {
   "cell_type": "markdown",
   "metadata": {},
   "source": [
    "# Exploration and Feature engineering"
   ]
  },
  {
   "cell_type": "code",
   "execution_count": 221,
   "metadata": {},
   "outputs": [
    {
     "data": {
      "text/plain": [
       "Place\n",
       "California         3.7796\n",
       "Michigan           3.6891\n",
       "Florida            3.6691\n",
       "Indiana            3.6536\n",
       "Alaska             3.6465\n",
       "Ohio               3.6132\n",
       "Illinois           3.5849\n",
       "Oregon             3.5718\n",
       "New York           3.5281\n",
       "South  Carolina    3.5032\n",
       "Oklahoma           3.4904\n",
       "North Carolina     3.4749\n",
       "Georgia            3.4630\n",
       "Vermont            3.4627\n",
       "Delaware           3.4624\n",
       "Name: WEIGHTED, dtype: float64"
      ]
     },
     "execution_count": 221,
     "metadata": {},
     "output_type": "execute_result"
    }
   ],
   "source": [
    "#Which states are the most popular for beer?\n",
    "df.groupby('Place')['WEIGHTED'].mean().sort_values(ascending=False).head(15)"
   ]
  },
  {
   "cell_type": "code",
   "execution_count": 222,
   "metadata": {},
   "outputs": [
    {
     "data": {
      "text/plain": [
       "Place\n",
       "Alaska             8.324000\n",
       "Delaware           8.240000\n",
       "Florida            8.181112\n",
       "Indiana            7.970699\n",
       "California         7.867200\n",
       "Oklahoma           7.848462\n",
       "Michigan           7.807500\n",
       "Ohio               7.772000\n",
       "Illinois           7.668000\n",
       "Kentucky           7.555612\n",
       "Arizona            7.519050\n",
       "Colorado           7.386100\n",
       "New York           7.342098\n",
       "Oregon             7.315800\n",
       "South  Carolina    7.298800\n",
       "Name: ABV, dtype: float64"
      ]
     },
     "execution_count": 222,
     "metadata": {},
     "output_type": "execute_result"
    }
   ],
   "source": [
    "#Which states are the most popular for beer?\n",
    "df.groupby('Place')['ABV'].mean().sort_values(ascending=False).head(15)"
   ]
  },
  {
   "cell_type": "code",
   "execution_count": 223,
   "metadata": {
    "scrolled": true
   },
   "outputs": [
    {
     "data": {
      "text/plain": [
       "Style\n",
       "imperial stout           3.846667\n",
       "imperial porter          3.703800\n",
       "lambic style - gueuze    3.700000\n",
       "barley wine              3.679926\n",
       "sour red                 3.678846\n",
       "imperial ipa             3.661051\n",
       "baltic porter            3.657273\n",
       "sour                     3.626574\n",
       "foreign stout            3.625556\n",
       "lambic style - fruit     3.608000\n",
       "Name: WEIGHTED, dtype: float64"
      ]
     },
     "execution_count": 223,
     "metadata": {},
     "output_type": "execute_result"
    }
   ],
   "source": [
    "#Which styles are the most popular for beer?\n",
    "a = df.groupby('Style')['WEIGHTED'].count().sort_values(ascending=False)\n",
    "a = a[a > 100]\n",
    "b = df.groupby('Style')['WEIGHTED'].mean().sort_values(ascending=False).head(10)\n",
    "\n",
    "b\n",
    "#there's no consistent way to get the best styles; too subjective"
   ]
  },
  {
   "cell_type": "code",
   "execution_count": 224,
   "metadata": {},
   "outputs": [
    {
     "data": {
      "image/png": "[encoded data removed]",
      "text/plain": [
       "<matplotlib.figure.Figure at 0x1d82ea8f048>"
      ]
     },
     "metadata": {},
     "output_type": "display_data"
    }
   ],
   "source": [
    "df['WEIGHTED'].hist()\n",
    "np.std(df['WEIGHTED'])\n",
    "plt.xlabel('score')\n",
    "plt.ylabel('frequency')\n",
    "plt.title('Rating histogram, mean = ' + str(\"{0:.2f}\".format(np.mean(df['WEIGHTED']))) + ', stdev = ' + str(\"{0:.2f}\".format(np.std(df['WEIGHTED']))));"
   ]
  },
  {
   "cell_type": "code",
   "execution_count": 167,
   "metadata": {},
   "outputs": [
    {
     "data": {
      "image/png": "[encoded data removed]",
      "text/plain": [
       "<matplotlib.figure.Figure at 0x1d8304260b8>"
      ]
     },
     "metadata": {},
     "output_type": "display_data"
    }
   ],
   "source": [
    "#sample so the pairplot isn't incomprehensibly dense\n",
    "df_dummy = df2.sample(50)\n",
    "sns.pairplot(df_dummy[['LOG_ABV',  'Title_longest_word', 'Title_shortest_word', 'WEIGHTED']]);"
   ]
  },
  {
   "cell_type": "code",
   "execution_count": 168,
   "metadata": {},
   "outputs": [
    {
     "data": {
      "text/plain": [
       "WEIGHTED                      1.000000\n",
       "LOG_ABV                       0.527332\n",
       "Style[T.imperial stout]       0.320847\n",
       "barrel                        0.272299\n",
       "imperi                        0.254078\n",
       "stout                         0.238617\n",
       "Title_words                   0.201007\n",
       "Style[T.imperial ipa]         0.181751\n",
       "bourbon                       0.180545\n",
       "doubl                         0.154693\n",
       "coffe                         0.145631\n",
       "Place[T.California]           0.143037\n",
       "vanilla                       0.140101\n",
       "chocol                        0.131358\n",
       "releas                        0.129348\n",
       "roast                         0.128255\n",
       "Style[T.barley wine]          0.128217\n",
       "intens                        0.127841\n",
       "dark                          0.127534\n",
       "month                         0.127259\n",
       "black                         0.124196\n",
       "wine                          0.123245\n",
       "bottl                         0.113520\n",
       "batch                         0.113310\n",
       "Place[T.Michigan]             0.113001\n",
       "bean                          0.112676\n",
       "complex                       0.111292\n",
       "Title_longest_word            0.107394\n",
       "Place[T.Florida]              0.106363\n",
       "Place[T.Indiana]              0.101219\n",
       "                                ...   \n",
       "Style[T.irish ale]           -0.047162\n",
       "Style[T.english pale ale]    -0.054453\n",
       "Style[T.german hefeweizen]   -0.059824\n",
       "Style[T.spice]               -0.060500\n",
       "Style[T.oktoberfest]         -0.062871\n",
       "Style[T.dortmunder]          -0.063648\n",
       "Place[T.Tennessee]           -0.064826\n",
       "Place[T.Mississippi]         -0.067282\n",
       "Style[T.kãâ¶lsch]           -0.070041\n",
       "Style[T.cream ale]           -0.070993\n",
       "Style[T.pilsener]            -0.072780\n",
       "Place[T.West Virginia]       -0.075148\n",
       "Place[T.Louisiana]           -0.081885\n",
       "Place[T.Montana]             -0.082350\n",
       "Style[T.premium lager]       -0.084502\n",
       "Place[T.North Dakota]        -0.086300\n",
       "Place[T.Arkansas]            -0.086997\n",
       "Style[T.low alcohol]         -0.090328\n",
       "Place[T.Wisconsin]           -0.091378\n",
       "Title_shortest_word          -0.098747\n",
       "Place[T.South Dakota]        -0.100604\n",
       "Style[T.fruit beer]          -0.102604\n",
       "Style[T.amber lager]         -0.102696\n",
       "Style[T.amber ale]           -0.118326\n",
       "Place[T.Nevada]              -0.129744\n",
       "Style[T.wheat ale]           -0.137393\n",
       "Style[T.golden ale]          -0.160173\n",
       "Place[T.Missouri]            -0.199143\n",
       "Style[T.malt liquor]         -0.221949\n",
       "Style[T.pale lager]          -0.395819\n",
       "Name: WEIGHTED, Length: 151, dtype: float64"
      ]
     },
     "execution_count": 168,
     "metadata": {},
     "output_type": "execute_result"
    }
   ],
   "source": [
    "#Select the features with the highest correlations\n",
    "\n",
    "feat_values = df2.corr()['WEIGHTED'].sort_values(ascending=False)\n",
    "best_feats = feat_values.apply(lambda x: np.abs(x))\n",
    "best_feats = feat_values.sort_values(ascending=False)[best_feats > 0.02].index\n",
    "feat_values"
   ]
  },
  {
   "cell_type": "code",
   "execution_count": 260,
   "metadata": {},
   "outputs": [
    {
     "data": {
      "text/plain": [
       "(4999, 115)"
      ]
     },
     "execution_count": 260,
     "metadata": {},
     "output_type": "execute_result"
    }
   ],
   "source": [
    "x.shape"
   ]
  },
  {
   "cell_type": "code",
   "execution_count": 262,
   "metadata": {},
   "outputs": [
    {
     "data": {
      "text/plain": [
       "43.469565217391306"
      ]
     },
     "execution_count": 262,
     "metadata": {},
     "output_type": "execute_result"
    }
   ],
   "source": [
    "4999/115\n",
    "#number of features not a huge issue here"
   ]
  },
  {
   "cell_type": "markdown",
   "metadata": {},
   "source": [
    "# Model Building"
   ]
  },
  {
   "cell_type": "code",
   "execution_count": 249,
   "metadata": {},
   "outputs": [
    {
     "name": "stdout",
     "output_type": "stream",
     "text": [
      "0.06716688933 0.631813196922\n"
     ]
    }
   ],
   "source": [
    "#get average behavior for the model\n",
    "df2 = shuffle(df2)\n",
    "y = df2['WEIGHTED']\n",
    "x = df2[[col for col in best_feats if col != 'WEIGHTED']]\n",
    "\n",
    "lr2 = Ridge(alpha=0.01, normalize=True)\n",
    "\n",
    "scores = cross_val_score(lr2, x, y, cv=20, scoring='neg_mean_squared_error')\n",
    "scores_2 = cross_val_score(lr2, x, y, cv=20, scoring='r2')\n",
    "print(-np.mean(scores), np.mean(scores_2))\n",
    "\n",
    "#without poly transform or keywords: 0.597\n",
    "#with keywords: .608\n",
    "#with poly transform on ABV: 0.597"
   ]
  },
  {
   "cell_type": "code",
   "execution_count": 250,
   "metadata": {},
   "outputs": [
    {
     "name": "stdout",
     "output_type": "stream",
     "text": [
      "Train r2: 0.658855819382\n",
      "Test r2: 0.627413481278\n",
      "Train mse:  0.0634676306154\n",
      "Test mse:  0.0679461370457\n"
     ]
    }
   ],
   "source": [
    "#Define model variables\n",
    "df2 = shuffle(df2)\n",
    "y = df2['WEIGHTED']\n",
    "x = df2[[col for col in best_feats if (col != 'WEIGHTED')]]\n",
    "\n",
    "lr = Ridge(alpha=0.01, normalize=True)\n",
    "\n",
    "# Split the data into training and test sets\n",
    "X_train, X_test, y_train, y_test = train_test_split(x, y, test_size=0.2)\n",
    "\n",
    "# Fit the model against the training data\n",
    "lr.fit(X_train, y_train)\n",
    "\n",
    "# Evaluate the model against the testing data\n",
    "print('Train r2:', lr.score(X_train, y_train))\n",
    "print('Test r2:', lr.score(X_test, y_test))\n",
    "\n",
    "print('Train mse: ',mean_squared_error(y_train, lr.predict(X_train)))\n",
    "print('Test mse: ', mean_squared_error(y_test, lr.predict(X_test)))"
   ]
  },
  {
   "cell_type": "code",
   "execution_count": 449,
   "metadata": {
    "collapsed": true
   },
   "outputs": [],
   "source": [
    "#save the model for later\n",
    "\n",
    "import pickle as pkl\n",
    "\n",
    "data = {'data': df, 'x':x, 'y':y, 'model': lr}\n",
    "\n",
    "with open('beer_model.pkl', 'wb') as picklefile:\n",
    "    pkl.dump(data, picklefile)"
   ]
  },
  {
   "cell_type": "markdown",
   "metadata": {},
   "source": [
    "# Model Evaluation"
   ]
  },
  {
   "cell_type": "code",
   "execution_count": 259,
   "metadata": {},
   "outputs": [
    {
     "data": {
      "image/png": "[encoded data removed]",
      "text/plain": [
       "<matplotlib.figure.Figure at 0x1d82f552c88>"
      ]
     },
     "metadata": {},
     "output_type": "display_data"
    }
   ],
   "source": [
    "#Plotting histogram of residuals: checking the linear regression assumptions\n",
    "resid = lr.predict(X_test)-y_test\n",
    "plt.hist(resid);\n",
    "plt.xlabel('score');\n",
    "plt.ylabel('frequency');\n",
    "plt.title('Residual histogram, stdev = ' + str(\"{0:.2f}\".format(np.std(resid))));"
   ]
  },
  {
   "cell_type": "code",
   "execution_count": 180,
   "metadata": {},
   "outputs": [
    {
     "data": {
      "image/png": "[encoded data removed]",
      "text/plain": [
       "<matplotlib.figure.Figure at 0x1d83011d358>"
      ]
     },
     "metadata": {},
     "output_type": "display_data"
    }
   ],
   "source": [
    "plt.scatter(lr.predict(X_test), resid);\n",
    "plt.plot([1,5], [0,0], 'r');\n",
    "#Residual plot"
   ]
  },
  {
   "cell_type": "code",
   "execution_count": 207,
   "metadata": {},
   "outputs": [
    {
     "data": {
      "text/plain": [
       "[('Place[T.California]', 0.34070354104213169),\n",
       " ('LOG_ABV', 0.29052690058588537),\n",
       " ('Place[T.Michigan]', 0.25849547362307707),\n",
       " ('Place[T.Florida]', 0.20131146276329348),\n",
       " ('Style[T.lambic style - gueuze]', 0.19976448865911708),\n",
       " ('Style[T.imperial stout]', 0.19866988199095859),\n",
       " ('Style[T.grodziskie]', 0.18920424502042896),\n",
       " ('Style[T.sour]', 0.1886793045692973),\n",
       " ('Place[T.Indiana]', 0.18412860318694976),\n",
       " ('Place[T.Illinois]', 0.18406508239103167),\n",
       " ('Place[T.Oregon]', 0.18360722942752966),\n",
       " ('Place[T.Ohio]', 0.1764844235455478),\n",
       " ('Style[T.foreign stout]', 0.16502128907463517),\n",
       " ('Place[T.Alaska]', 0.16159917809414831),\n",
       " ('Place[T.New York]', 0.1486355121742835),\n",
       " ('Style[T.saison]', 0.14139985114201073),\n",
       " ('Place[T.Vermont]', 0.13847553101742857),\n",
       " ('Style[T.baltic porter]', 0.13657797474829833),\n",
       " ('Style[T.imperial ipa]', 0.13648078603467734),\n",
       " ('Style[T.lambic style - fruit]', 0.1330203064692482),\n",
       " ('Style[T.sour red]', 0.13245894554685286),\n",
       " ('Style[T.black ipa]', 0.1308411143086578),\n",
       " ('Style[T.imperial porter]', 0.13044102683541645),\n",
       " ('barrel', 0.11451676328383995),\n",
       " ('Place[T.Minnesota]', 0.1086135497905702),\n",
       " ('Place[T.New Jersey]', 0.1056676792274462),\n",
       " ('Style[T.sweet stout]', 0.10348513685765502),\n",
       " ('Style[T.irish ale]', -0.10057296275772416),\n",
       " ('Style[T.witbier]', -0.10905570363907215),\n",
       " ('Place[T.Louisiana]', -0.11714034075376126),\n",
       " ('Place[T.Mississippi]', -0.11861684981375109),\n",
       " ('Style[T.english pale ale]', -0.11940044013974378),\n",
       " ('Style[T.german hefeweizen]', -0.12970288312755557),\n",
       " ('Place[T.Rhode Island]', -0.13767234159719163),\n",
       " ('Style[T.altbier]', -0.14632356157855281),\n",
       " ('Place[T.West Virginia]', -0.16144629564185245),\n",
       " ('Style[T.pilsener]', -0.16543988434579857),\n",
       " ('Style[T.oktoberfest]', -0.16844133174757009),\n",
       " ('Place[T.South Dakota]', -0.16859279283306339),\n",
       " ('Place[T.Arkansas]', -0.17226939290547313),\n",
       " ('Style[T.czech pilsner]', -0.17617665578652147),\n",
       " ('Style[T.spice]', -0.18095179647237078),\n",
       " ('Style[T.heller bock]', -0.18227794815075968),\n",
       " ('Place[T.Nevada]', -0.18398139580560027),\n",
       " ('Style[T.scottish ale]', -0.19430247656840643),\n",
       " ('Style[T.fruit beer]', -0.19752829777855291),\n",
       " ('Style[T.dunkel]', -0.19976082891968097),\n",
       " ('Place[T.North Dakota]', -0.20824797870822109),\n",
       " ('Style[T.amber ale]', -0.22340390589020423),\n",
       " ('Style[T.kã\\x83â¶lsch]', -0.24635697088240383),\n",
       " ('Style[T.california common]', -0.24740892863284522),\n",
       " ('Place[T.Missouri]', -0.25877999726591344),\n",
       " ('Style[T.wheat ale]', -0.26406109545133793),\n",
       " ('Style[T.cider]', -0.26705234572995024),\n",
       " ('Style[T.cream ale]', -0.29850867670889392),\n",
       " ('Style[T.dortmunder]', -0.30510621457421094),\n",
       " ('Style[T.amber lager]', -0.31262995200876764),\n",
       " ('Style[T.golden ale]', -0.31974071302936097),\n",
       " ('Style[T.premium lager]', -0.39739934661582293),\n",
       " ('Style[T.german kristallweizen]', -0.42166043508561502),\n",
       " ('Style[T.radler]', -0.42952518381415822),\n",
       " ('Style[T.low alcohol]', -0.49831907159724342),\n",
       " ('Style[T.perry]', -0.82027382640839563),\n",
       " ('Style[T.pale lager]', -1.0606111861951437),\n",
       " ('Style[T.malt liquor]', -1.656291858377027)]"
      ]
     },
     "execution_count": 207,
     "metadata": {},
     "output_type": "execute_result"
    }
   ],
   "source": [
    "list(zip(X_test.columns, lr.coef_)) #weights for individual features\n",
    "\n",
    "sorted([a for a in list(zip(X_test.columns, lr.coef_)) if np.abs(a[1]) > 0.1], key = lambda x: x[1], reverse=True)\n"
   ]
  },
  {
   "cell_type": "code",
   "execution_count": 182,
   "metadata": {},
   "outputs": [
    {
     "data": {
      "image/png": "[encoded data removed]",
      "text/plain": [
       "<matplotlib.figure.Figure at 0x1d82f67cb00>"
      ]
     },
     "metadata": {},
     "output_type": "display_data"
    }
   ],
   "source": [
    "xplt = lr.predict(X_test)\n",
    "yplt = y_test\n",
    "\n",
    "plt.scatter(xplt, yplt)\n",
    "plt.plot(np.arange(1,6), np.arange(1,6), 'r');\n",
    "plt.plot(np.arange(1,6), np.arange(1,6) + 2*np.std(resid), 'r--')\n",
    "plt.plot(np.arange(1,6), np.arange(1,6) - 2*np.std(resid), 'r--')\n",
    "plt.xlabel('Predicted score')\n",
    "plt.ylabel('Actual score')\n",
    "\n",
    "title = r'Beer ratings versus model predictions, $r^2$ = ' + \"{0:.2f}\".format(lr.score(X_test, y_test))\n",
    "plt.title(title);\n"
   ]
  },
  {
   "cell_type": "code",
   "execution_count": 184,
   "metadata": {},
   "outputs": [
    {
     "data": {
      "text/plain": [
       "0.948"
      ]
     },
     "execution_count": 184,
     "metadata": {},
     "output_type": "execute_result"
    }
   ],
   "source": [
    "#So how confident are we in our accuracy to 2 standard deviations??\n",
    "len(resid[(resid <= 2*np.std(resid)) & (resid >= -2*np.std(resid))])/len(resid)"
   ]
  },
  {
   "cell_type": "code",
   "execution_count": 292,
   "metadata": {},
   "outputs": [
    {
     "data": {
      "text/plain": [
       "0.61863866054192251"
      ]
     },
     "execution_count": 292,
     "metadata": {},
     "output_type": "execute_result"
    }
   ],
   "source": [
    "#compute adjusted r^2\n",
    "\n",
    "n = x.shape[0]\n",
    "k = x.shape[1]\n",
    "\n",
    "adjr2 = 1-(n-1)/(n-k-1)*(1-lr.score(X_test,y_test))\n",
    "\n",
    "adjr2 #marginally less than normal r^2. Nothing to worry about"
   ]
  }
 ],
 "metadata": {
  "kernelspec": {
   "display_name": "Python 3",
   "language": "python",
   "name": "python3"
  },
  "language_info": {
   "codemirror_mode": {
    "name": "ipython",
    "version": 3
   },
   "file_extension": ".py",
   "mimetype": "text/x-python",
   "name": "python",
   "nbconvert_exporter": "python",
   "pygments_lexer": "ipython3",
   "version": "3.6.0"
  }
 },
 "nbformat": 4,
 "nbformat_minor": 2
}
