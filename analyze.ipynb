{
 "cells": [
  {
   "cell_type": "markdown",
   "metadata": {},
   "source": [
    "# Overview\n",
    "\n",
    "Using scraped data from ratebeer.com, I train a model here to predict average beer ratings for a given beer"
   ]
  },
  {
   "cell_type": "code",
   "execution_count": 1,
   "metadata": {},
   "outputs": [
    {
     "name": "stderr",
     "output_type": "stream",
     "text": [
      "c:\\users\\avi\\anaconda3\\lib\\site-packages\\sklearn\\cross_validation.py:44: DeprecationWarning: This module was deprecated in version 0.18 in favor of the model_selection module into which all the refactored classes and functions are moved. Also note that the interface of the new CV iterators are different from that of this module. This module will be removed in 0.20.\n",
      "  \"This module will be removed in 0.20.\", DeprecationWarning)\n"
     ]
    },
    {
     "data": {
      "text/plain": [
       "(5000, 8)"
      ]
     },
     "execution_count": 1,
     "metadata": {},
     "output_type": "execute_result"
    }
   ],
   "source": [
    "# Python 2 & 3 Compatibility\n",
    "from __future__ import print_function, division\n",
    "\n",
    "# Necessary imports\n",
    "import re\n",
    "import pandas as pd\n",
    "import numpy as np\n",
    "import patsy\n",
    "import seaborn as sns\n",
    "from seaborn import plt\n",
    "from sklearn.linear_model import Ridge\n",
    "from sklearn.model_selection import train_test_split\n",
    "from sklearn.cross_validation import cross_val_score\n",
    "from sklearn.utils import shuffle\n",
    "from sklearn.metrics import mean_squared_error, r2_score\n",
    "\n",
    "import string\n",
    "from nltk.stem.snowball import SnowballStemmer\n",
    "from nltk.corpus import stopwords\n",
    "from collections import defaultdict\n",
    "\n",
    "\n",
    "%matplotlib inline\n",
    "\n",
    "df = pd.read_csv('data_conso.csv', encoding='iso-8859-1')\n",
    "\n",
    "def av_wordlen(words):\n",
    "    wordlist = words.split(' ')\n",
    "    return np.mean([len(word) for word in wordlist])\n",
    "\n",
    "df.shape"
   ]
  },
  {
   "cell_type": "markdown",
   "metadata": {},
   "source": [
    "# Data Cleaning\n",
    "\n",
    "\n",
    "It's rare that you'll find a clean dataset"
   ]
  },
  {
   "cell_type": "code",
   "execution_count": 2,
   "metadata": {
    "collapsed": true
   },
   "outputs": [],
   "source": [
    "#adjust the target variable\n",
    "for i, value in enumerate(df['WEIGHTED']):\n",
    "    try:\n",
    "        float(str(value).split('/')[0])\n",
    "    except:\n",
    "        df.drop(i, inplace=True)\n",
    "\n",
    "#this beer has a null rating; drop it from the dataset\n",
    "df['WEIGHTED'] = df['WEIGHTED'].apply(lambda x: float(str(x).split('/')[0]))"
   ]
  },
  {
   "cell_type": "code",
   "execution_count": 3,
   "metadata": {
    "collapsed": true
   },
   "outputs": [],
   "source": [
    "#parse and impute values\n",
    "df['ABV'] = df['ABV'].apply(lambda x: (str(x).strip('%- ')))\n",
    "df['ABV'].replace('',np.nan, inplace=True)\n",
    "df['ABV'] = df['ABV'].apply(lambda x: float(x))\n",
    "df['ABV'] = df['ABV'].fillna(df['ABV'].mean())\n",
    "\n",
    "df['LOG_ABV'] = np.log(df['ABV'])\n",
    "\n",
    "df['Descr'] = df['Descr'].apply(lambda x: x.lower())\n",
    "\n",
    "df['CALORIES'] = df['CALORIES'].fillna(df['CALORIES'].mean())\n",
    "\n",
    "df['Title'] = df['Title'].apply(lambda x: x.split('(')[0])\n",
    "df['Title'] = df['Title'].apply(lambda x: x.split('\\r')[0])\n",
    "df['Title_longest_word'] = df['Title'].apply(lambda x: max([len(i) for i in x.split(' ')]))\n",
    "df['Title_shortest_word'] = df['Title'].apply(lambda x: min([len(i) for i in x.split(' ')]))\n",
    "df['Title_words'] = df['Title'].apply(lambda x: len(x.split(' '))) \n",
    "\n",
    "df['Style'] = df['Style:'].apply(lambda x: x.split('/')[0])\n",
    "df['Style'] = df['Style'].apply(lambda x: x.split('(')[0])\n",
    "df['Style'] = df['Style'].apply(lambda x: x.lower().strip())"
   ]
  },
  {
   "cell_type": "code",
   "execution_count": 65,
   "metadata": {},
   "outputs": [
    {
     "data": {
      "text/plain": [
       "WEIGHTED               1.000000\n",
       "LOG_ABV                0.527332\n",
       "CALORIES               0.503974\n",
       "ABV                    0.500146\n",
       "Title_words            0.201007\n",
       "Title_longest_word     0.107394\n",
       "Title_shortest_word   -0.098747\n",
       "Name: WEIGHTED, dtype: float64"
      ]
     },
     "execution_count": 65,
     "metadata": {},
     "output_type": "execute_result"
    }
   ],
   "source": [
    "#Select the features with the highest correlations\n",
    "df.corr()['WEIGHTED'].sort_values(ascending=False)"
   ]
  },
  {
   "cell_type": "code",
   "execution_count": 4,
   "metadata": {
    "collapsed": true
   },
   "outputs": [],
   "source": [
    "#isolate description keywords\n",
    "\n",
    "stemmer = SnowballStemmer(\"english\", ignore_stopwords=True)\n",
    "\n",
    "word_counts = defaultdict(int)\n",
    "excl = set(string.punctuation)\n",
    "stop = stopwords.words('english')\n",
    "\n",
    "for val in df['Descr']:\n",
    "    val2 = ''.join(ch for ch in val if ch not in excl)\n",
    "    for word in val2.split(' '):\n",
    "        if len(word) > 3 and word not in stop:\n",
    "            word_counts[stemmer.stem(word)] += 1\n",
    "\n",
    "word_tup =  sorted([(a,word_counts[a]) for a in word_counts], key=lambda x: x[1], reverse=True)[2:]\n"
   ]
  },
  {
   "cell_type": "code",
   "execution_count": 5,
   "metadata": {
    "collapsed": true
   },
   "outputs": [],
   "source": [
    "word_tup = list(filter(lambda x: x[1] > 100, word_tup))\n",
    "\n",
    "keywords = [a[0] for a in word_tup]\n",
    "best_words = []\n",
    "\n",
    "for word in keywords:\n",
    "    dat = pd.Series(df['Descr'].apply(lambda x: str(word) in x))\n",
    "    if dat.corr(df['WEIGHTED'], method='pearson') > 0.1 and len(word) > 3:\n",
    "        best_words.append(word)\n",
    "\n",
    "for word in best_words:\n",
    "    df[word] = df['Descr'].apply(lambda x: str(word) in x)"
   ]
  },
  {
   "cell_type": "markdown",
   "metadata": {},
   "source": [
    "IBU is useless as a feature; less than 40% of the dataset even has a value for it"
   ]
  },
  {
   "cell_type": "code",
   "execution_count": 68,
   "metadata": {},
   "outputs": [
    {
     "name": "stdout",
     "output_type": "stream",
     "text": [
      "0.381676335267\n"
     ]
    },
    {
     "data": {
      "text/plain": [
       "79"
      ]
     },
     "execution_count": 68,
     "metadata": {},
     "output_type": "execute_result"
    }
   ],
   "source": [
    "# If we want to see what happens when we consider IBU\n",
    "'''\n",
    "df['IBU'] = df['IBU'].apply(lambda x: ''.join([c for c in str(x) if c in '1234567890']))\n",
    "df['IBU'].replace('', np.nan, inplace=True)\n",
    "df['IBU'] = df['IBU'].apply(lambda x: float(x))\n",
    "df['IBU'] = df['IBU'].fillna(0)''';\n",
    "\n",
    "#IBU is basically useless: Only 38% of data even has a value\n",
    "print(sum(1-df['IBU'].isnull())/len(df['IBU']))\n",
    "\n",
    "len(df['Style'].unique())"
   ]
  },
  {
   "cell_type": "code",
   "execution_count": 6,
   "metadata": {
    "collapsed": true
   },
   "outputs": [],
   "source": [
    "#get dummy variables and drop unnecessary columns\n",
    "\n",
    "X=patsy.dmatrix('Place',data=df,return_type='dataframe')\n",
    "df2 = pd.concat([df,X], axis=1)\n",
    "X=patsy.dmatrix('Style',data=df,return_type='dataframe')\n",
    "\n",
    "df2['Int'] = df2['Intercept']\n",
    "\n",
    "cols_to_drop = ['Title', 'Place', 'Style', 'Style:', 'Descr', 'Intercept', 'Int', 'ABV', 'IBU', 'CALORIES']\n",
    "#CALORIES and ABV are highly correlated\n",
    "\n",
    "df2 = pd.concat([df2,X], axis=1)\n",
    "df2 = df2.drop(cols_to_drop, axis=1)\n"
   ]
  },
  {
   "cell_type": "markdown",
   "metadata": {},
   "source": [
    "# Exploration and Feature engineering"
   ]
  },
  {
   "cell_type": "markdown",
   "metadata": {},
   "source": [
    "Curious: Which state gets the best-rated beer?"
   ]
  },
  {
   "cell_type": "code",
   "execution_count": 52,
   "metadata": {},
   "outputs": [
    {
     "data": {
      "text/plain": [
       "Place\n",
       "California         3.7796\n",
       "Michigan           3.6891\n",
       "Florida            3.6691\n",
       "Indiana            3.6536\n",
       "Alaska             3.6465\n",
       "Ohio               3.6132\n",
       "Illinois           3.5849\n",
       "Oregon             3.5718\n",
       "New York           3.5281\n",
       "South  Carolina    3.5032\n",
       "Oklahoma           3.4904\n",
       "North Carolina     3.4749\n",
       "Georgia            3.4630\n",
       "Vermont            3.4627\n",
       "Delaware           3.4624\n",
       "Name: WEIGHTED, dtype: float64"
      ]
     },
     "execution_count": 52,
     "metadata": {},
     "output_type": "execute_result"
    }
   ],
   "source": [
    "#Which states are the most popular for beer?\n",
    "df.groupby('Place')['WEIGHTED'].mean().sort_values(ascending=False).head(15)"
   ]
  },
  {
   "cell_type": "markdown",
   "metadata": {},
   "source": [
    "How are ratings distributed?"
   ]
  },
  {
   "cell_type": "code",
   "execution_count": 70,
   "metadata": {},
   "outputs": [
    {
     "data": {
      "image/png": "[encoded data removed]",
      "text/plain": [
       "<matplotlib.figure.Figure at 0x1c25d7b67f0>"
      ]
     },
     "metadata": {},
     "output_type": "display_data"
    }
   ],
   "source": [
    "df['WEIGHTED'].hist()\n",
    "np.std(df['WEIGHTED'])\n",
    "plt.xlabel('score')\n",
    "plt.ylabel('frequency')\n",
    "plt.title('Rating histogram, mean = ' + str(\"{0:.2f}\".format(np.mean(df['WEIGHTED']))) + ', stdev = ' + str(\"{0:.2f}\".format(np.std(df['WEIGHTED']))));"
   ]
  },
  {
   "cell_type": "code",
   "execution_count": 81,
   "metadata": {
    "collapsed": true
   },
   "outputs": [],
   "source": [
    "#sample so the pairplot isn't incomprehensibly dense\n",
    "df_dummy = df.sample(200)\n",
    "sns.pairplot(df_dummy[['ABV', 'LOG_ABV', 'CALORIES', 'WEIGHTED']]);"
   ]
  },
  {
   "cell_type": "markdown",
   "metadata": {},
   "source": [
    "ABV is one of my strongest features"
   ]
  },
  {
   "cell_type": "code",
   "execution_count": 139,
   "metadata": {},
   "outputs": [
    {
     "data": {
      "text/plain": [
       "<matplotlib.text.Text at 0x204fb151c88>"
      ]
     },
     "execution_count": 139,
     "metadata": {},
     "output_type": "execute_result"
    },
    {
     "data": {
      "image/png": "[encoded data removed]",
      "text/plain": [
       "<matplotlib.figure.Figure at 0x204f7a9e748>"
      ]
     },
     "metadata": {},
     "output_type": "display_data"
    }
   ],
   "source": [
    "df_dummy = df.sample(200)\n",
    "plt.scatter(df_dummy['ABV'], df_dummy['WEIGHTED'])\n",
    "plt.xlabel('ABV')\n",
    "plt.ylabel('Average Rating')\n",
    "plt.title('Rating vs ABV')"
   ]
  },
  {
   "cell_type": "code",
   "execution_count": 380,
   "metadata": {},
   "outputs": [
    {
     "data": {
      "text/plain": [
       "108"
      ]
     },
     "execution_count": 380,
     "metadata": {},
     "output_type": "execute_result"
    }
   ],
   "source": [
    "len(df[df.Style == 'sour'])"
   ]
  },
  {
   "cell_type": "markdown",
   "metadata": {},
   "source": [
    "To simplify the model, pick only the strongest features"
   ]
  },
  {
   "cell_type": "code",
   "execution_count": 138,
   "metadata": {
    "scrolled": false
   },
   "outputs": [
    {
     "data": {
      "text/plain": [
       "WEIGHTED                      1.000000\n",
       "LOG_ABV                       0.527332\n",
       "Style[T.imperial stout]       0.320847\n",
       "barrel                        0.272299\n",
       "imperi                        0.254078\n",
       "stout                         0.238617\n",
       "Title_words                   0.201007\n",
       "Style[T.imperial ipa]         0.181751\n",
       "bourbon                       0.180545\n",
       "doubl                         0.154693\n",
       "coffe                         0.145631\n",
       "Place[T.California]           0.143037\n",
       "vanilla                       0.140101\n",
       "chocol                        0.131358\n",
       "releas                        0.129348\n",
       "roast                         0.128255\n",
       "Style[T.barley wine]          0.128217\n",
       "intens                        0.127841\n",
       "dark                          0.127534\n",
       "month                         0.127259\n",
       "black                         0.124196\n",
       "wine                          0.123245\n",
       "bottl                         0.113520\n",
       "batch                         0.113310\n",
       "Place[T.Michigan]             0.113001\n",
       "bean                          0.112676\n",
       "complex                       0.111292\n",
       "Title_longest_word            0.107394\n",
       "Place[T.Florida]              0.106363\n",
       "Place[T.Indiana]              0.101219\n",
       "                                ...   \n",
       "Style[T.irish ale]           -0.047162\n",
       "Style[T.english pale ale]    -0.054453\n",
       "Style[T.german hefeweizen]   -0.059824\n",
       "Style[T.spice]               -0.060500\n",
       "Style[T.oktoberfest]         -0.062871\n",
       "Style[T.dortmunder]          -0.063648\n",
       "Place[T.Tennessee]           -0.064826\n",
       "Place[T.Mississippi]         -0.067282\n",
       "Style[T.kãâ¶lsch]           -0.070041\n",
       "Style[T.cream ale]           -0.070993\n",
       "Style[T.pilsener]            -0.072780\n",
       "Place[T.West Virginia]       -0.075148\n",
       "Place[T.Louisiana]           -0.081885\n",
       "Place[T.Montana]             -0.082350\n",
       "Style[T.premium lager]       -0.084502\n",
       "Place[T.North Dakota]        -0.086300\n",
       "Place[T.Arkansas]            -0.086997\n",
       "Style[T.low alcohol]         -0.090328\n",
       "Place[T.Wisconsin]           -0.091378\n",
       "Title_shortest_word          -0.098747\n",
       "Place[T.South Dakota]        -0.100604\n",
       "Style[T.fruit beer]          -0.102604\n",
       "Style[T.amber lager]         -0.102696\n",
       "Style[T.amber ale]           -0.118326\n",
       "Place[T.Nevada]              -0.129744\n",
       "Style[T.wheat ale]           -0.137393\n",
       "Style[T.golden ale]          -0.160173\n",
       "Place[T.Missouri]            -0.199143\n",
       "Style[T.malt liquor]         -0.221949\n",
       "Style[T.pale lager]          -0.395819\n",
       "Name: WEIGHTED, Length: 151, dtype: float64"
      ]
     },
     "execution_count": 138,
     "metadata": {},
     "output_type": "execute_result"
    }
   ],
   "source": [
    "#Select the features with the highest correlations\n",
    "\n",
    "feat_values = df2.corr()['WEIGHTED'].sort_values(ascending=False)\n",
    "best_feats = feat_values.apply(lambda x: np.abs(x))\n",
    "best_feats = feat_values.sort_values(ascending=False)[best_feats > 0.02].index\n",
    "feat_values"
   ]
  },
  {
   "cell_type": "code",
   "execution_count": 14,
   "metadata": {},
   "outputs": [
    {
     "data": {
      "text/plain": [
       "(4999, 115)"
      ]
     },
     "execution_count": 14,
     "metadata": {},
     "output_type": "execute_result"
    }
   ],
   "source": [
    "x.shape"
   ]
  },
  {
   "cell_type": "markdown",
   "metadata": {},
   "source": [
    "# Model Building\n",
    "\n",
    "Now the fun part"
   ]
  },
  {
   "cell_type": "code",
   "execution_count": 146,
   "metadata": {},
   "outputs": [
    {
     "name": "stdout",
     "output_type": "stream",
     "text": [
      "0.0671531564699 0.631238965278\n"
     ]
    }
   ],
   "source": [
    "#get average behavior for the model\n",
    "df2 = shuffle(df2)\n",
    "y = df2['WEIGHTED']\n",
    "x = df2[[col for col in best_feats if col != 'WEIGHTED']]\n",
    "\n",
    "lr2 = Ridge(alpha=0.01, normalize=True)\n",
    "\n",
    "scores = cross_val_score(lr2, x, y, cv=20, scoring='neg_mean_squared_error')\n",
    "scores_2 = cross_val_score(lr2, x, y, cv=20, scoring='r2')\n",
    "print(-np.mean(scores), np.mean(scores_2))\n",
    "\n",
    "#without keywords: 0.622, 0.069\n",
    "#with keywords: .630, 0.0673"
   ]
  },
  {
   "cell_type": "code",
   "execution_count": 158,
   "metadata": {},
   "outputs": [
    {
     "name": "stdout",
     "output_type": "stream",
     "text": [
      "Train r2: 0.652865068071\n",
      "Test r2: 0.653223691965\n",
      "Train mse:  0.0645693955534\n",
      "Test mse:  0.0632964579438\n"
     ]
    }
   ],
   "source": [
    "#Define model variables\n",
    "df2 = shuffle(df2)\n",
    "y = df2['WEIGHTED']\n",
    "x = df2[[col for col in best_feats if (col != 'WEIGHTED')]]\n",
    "\n",
    "lr = Ridge(alpha=0.01, normalize=True)\n",
    "\n",
    "# Split the data into training and test sets\n",
    "X_train, X_test, y_train, y_test = train_test_split(x, y, test_size=0.2)\n",
    "\n",
    "# Fit the model against the training data\n",
    "lr.fit(X_train, y_train)\n",
    "\n",
    "# Evaluate the model against the testing data\n",
    "print('Train r2:', lr.score(X_train, y_train))\n",
    "print('Test r2:', lr.score(X_test, y_test))\n",
    "\n",
    "print('Train mse: ',mean_squared_error(y_train, lr.predict(X_train)))\n",
    "print('Test mse: ', mean_squared_error(y_test, lr.predict(X_test)))"
   ]
  },
  {
   "cell_type": "code",
   "execution_count": 156,
   "metadata": {
    "collapsed": true
   },
   "outputs": [],
   "source": [
    "#save the model for later\n",
    "\n",
    "import pickle as pkl\n",
    "\n",
    "data = {'data': df, 'x':x, 'y':y, 'model': lr}\n",
    "\n",
    "with open('beer_model.pkl', 'wb') as picklefile:\n",
    "    pkl.dump(data, picklefile)"
   ]
  },
  {
   "cell_type": "markdown",
   "metadata": {},
   "source": [
    "# Model Evaluation"
   ]
  },
  {
   "cell_type": "code",
   "execution_count": 20,
   "metadata": {
    "scrolled": true
   },
   "outputs": [
    {
     "data": {
      "text/plain": [
       "[('Style[T.lambic style - gueuze]', 0.35424845416120865),\n",
       " ('Place[T.California]', 0.34349862885614946),\n",
       " ('LOG_ABV', 0.27139482200787352),\n",
       " ('Place[T.Michigan]', 0.24346786330366335),\n",
       " ('Style[T.imperial stout]', 0.23163792451099802),\n",
       " ('Style[T.grodziskie]', 0.2168551900048207),\n",
       " ('Place[T.Florida]', 0.20186298471115011),\n",
       " ('Style[T.baltic porter]', 0.19796561766859058),\n",
       " ('Place[T.Oregon]', 0.1965658275680883),\n",
       " ('Place[T.Indiana]', 0.19641402257574911),\n",
       " ('Place[T.Ohio]', 0.17066344435578362),\n",
       " ('Style[T.foreign stout]', 0.16521978594294295),\n",
       " ('Style[T.sour]', 0.1643874506060691),\n",
       " ('Place[T.Alaska]', 0.16295915250100684),\n",
       " ('Place[T.New York]', 0.16049656347025737),\n",
       " ('Place[T.Illinois]', 0.14886979159396513),\n",
       " ('Style[T.sour red]', 0.14160444809080944),\n",
       " ('Place[T.Vermont]', 0.13919080225589472),\n",
       " ('Style[T.imperial porter]', 0.13746265445703548),\n",
       " ('Style[T.black ipa]', 0.13497724498408048),\n",
       " ('Style[T.imperial ipa]', 0.12701330262585797),\n",
       " ('barrel', 0.12407719785528881),\n",
       " ('Place[T.Minnesota]', 0.12264991622292627),\n",
       " ('Style[T.saison]', 0.11260821726468652),\n",
       " ('Style[T.sweet stout]', 0.11082702709594912),\n",
       " ('Place[T.Delaware]', 0.106952026044331),\n",
       " ('Place[T.New Jersey]', 0.1066780806672578),\n",
       " ('Place[T.Maine]', 0.1046422916664264),\n",
       " ('Style[T.barley wine]', 0.1001216603320791),\n",
       " ('Style[T.lambic style - fruit]', 0.099586134541500379),\n",
       " ('Style[T.abt]', 0.099367052195131825),\n",
       " ('Place[T.North Carolina]', 0.094722838353725705),\n",
       " ('Place[T.Georgia]', 0.090042259382591888),\n",
       " ('Style[T.weizen bock]', 0.089984349620838705),\n",
       " ('Place[T.Maryland]', 0.077669908758371667),\n",
       " ('bean', 0.077656003906325571),\n",
       " ('Place[T.Oklahoma]', 0.074492881160799426),\n",
       " ('Place[T.Colorado]', 0.072347573582459523),\n",
       " ('Place[T.Pennsylvania]', 0.068449101441133295),\n",
       " ('Style[T.india pale ale]', 0.067591107522470231),\n",
       " ('Style[T.smoked]', 0.067479111832667457),\n",
       " ('doubl', 0.064426638072672848),\n",
       " ('Place[T.South  Carolina]', 0.06346935129455164),\n",
       " ('Place[T.New Hampshire]', 0.058086037746229911),\n",
       " ('coffe', 0.045738107856247649),\n",
       " ('intens', 0.045227296474336272),\n",
       " ('roast', 0.041148579369857309),\n",
       " ('bottl', 0.031883965360542749),\n",
       " ('vanilla', 0.031503137866205705),\n",
       " ('bourbon', -0.03478153398687233),\n",
       " ('Place[T.Kansas]', -0.044489811915275027),\n",
       " ('Style[T.brown ale]', -0.060324877030507096),\n",
       " ('Place[T.Tennessee]', -0.070019040538856214),\n",
       " ('Place[T.Montana]', -0.07053030364235216),\n",
       " ('Place[T.Wyoming]', -0.073803855426267426),\n",
       " ('Style[T.premium bitter]', -0.078411979949099833),\n",
       " ('Place[T.Nebraska]', -0.085326050350937668),\n",
       " ('Place[T.Louisiana]', -0.09016079009867918),\n",
       " ('Place[T.Mississippi]', -0.090868141646630304),\n",
       " ('Style[T.german hefeweizen]', -0.093220950758189272),\n",
       " ('Style[T.witbier]', -0.10646018455047825),\n",
       " ('Place[T.Nevada]', -0.12450583292672679),\n",
       " ('Place[T.Rhode Island]', -0.13528866219545682),\n",
       " ('Place[T.South Dakota]', -0.14359792876016178),\n",
       " ('Place[T.West Virginia]', -0.15195069684467422),\n",
       " ('Place[T.Arkansas]', -0.15242880101845627),\n",
       " ('Style[T.altbier]', -0.15831218663811411),\n",
       " ('Style[T.english pale ale]', -0.16117926559811904),\n",
       " ('Style[T.heller bock]', -0.16450411275141089),\n",
       " ('Style[T.scottish ale]', -0.16791222825711949),\n",
       " ('Style[T.spice]', -0.17573091131170762),\n",
       " ('Style[T.pilsener]', -0.17864566354422134),\n",
       " ('Style[T.czech pilsner]', -0.17889483921953436),\n",
       " ('Style[T.dunkel]', -0.17983370173568561),\n",
       " ('Style[T.oktoberfest]', -0.18376065516530105),\n",
       " ('Style[T.irish ale]', -0.19541055971716381),\n",
       " ('Place[T.North Dakota]', -0.21654935470545114),\n",
       " ('Place[T.Missouri]', -0.22866878814524463),\n",
       " ('Style[T.amber ale]', -0.23313937116626118),\n",
       " ('Style[T.kã\\x83â¶lsch]', -0.23699518085233698),\n",
       " ('Style[T.fruit beer]', -0.2471343843986738),\n",
       " ('Style[T.california common]', -0.25946012851545325),\n",
       " ('Style[T.cider]', -0.27709607078592047),\n",
       " ('Style[T.wheat ale]', -0.28850699182102812),\n",
       " ('Style[T.dortmunder]', -0.30395205782278645),\n",
       " ('Style[T.amber lager]', -0.32492387570664411),\n",
       " ('Style[T.golden ale]', -0.32845160604481233),\n",
       " ('Style[T.cream ale]', -0.39443830047990092),\n",
       " ('Style[T.premium lager]', -0.40159730176160757),\n",
       " ('Style[T.german kristallweizen]', -0.44993627186223001),\n",
       " ('Style[T.perry]', -0.56007044703772557),\n",
       " ('Style[T.radler]', -0.5817739660568052),\n",
       " ('Style[T.low alcohol]', -0.91551324374171672),\n",
       " ('Style[T.pale lager]', -1.0572712165505063),\n",
       " ('Style[T.malt liquor]', -1.7870116517506014)]"
      ]
     },
     "execution_count": 20,
     "metadata": {},
     "output_type": "execute_result"
    }
   ],
   "source": [
    "list(zip(X_test.columns, lr.coef_)) #weights for individual features\n",
    "\n",
    "sorted([a for a in list(zip(X_test.columns, lr.coef_)) if np.abs(a[1]) > 0.03], key = lambda x: x[1], reverse=True)\n"
   ]
  },
  {
   "cell_type": "markdown",
   "metadata": {},
   "source": [
    "How is the error distributed in the predictions?\n",
    "\n",
    "Looks pretty normal; Seems that the linear regression assumptions are more-or-less satisfied\n",
    "\n",
    "With a standard deviation of 0.25 and a normal distribution:  \n",
    "**This model is accurate to within half a star (95% confidence)**"
   ]
  },
  {
   "cell_type": "code",
   "execution_count": 159,
   "metadata": {
    "scrolled": true
   },
   "outputs": [
    {
     "data": {
      "image/png": "[encoded data removed]",
      "text/plain": [
       "<matplotlib.figure.Figure at 0x204fc89f2b0>"
      ]
     },
     "metadata": {},
     "output_type": "display_data"
    }
   ],
   "source": [
    "#Plotting histogram of residuals: checking the linear regression assumptions\n",
    "resid = lr.predict(X_test)-y_test\n",
    "plt.hist(resid);\n",
    "plt.xlabel('score');\n",
    "plt.ylabel('frequency');\n",
    "plt.title('Residual histogram, stdev = ' + str(\"{0:.2f}\".format(np.std(resid))));"
   ]
  },
  {
   "cell_type": "markdown",
   "metadata": {},
   "source": [
    "Heteroskedasticity (sp?) is satisfied too"
   ]
  },
  {
   "cell_type": "code",
   "execution_count": 160,
   "metadata": {},
   "outputs": [
    {
     "data": {
      "image/png": "[encoded data removed]",
      "text/plain": [
       "<matplotlib.figure.Figure at 0x204fc68f978>"
      ]
     },
     "metadata": {},
     "output_type": "display_data"
    }
   ],
   "source": [
    "plt.scatter(lr.predict(X_test), resid);\n",
    "plt.plot([1,5], [0,0], 'r');\n",
    "plt.plot([1,5], [2*np.std(resid), 2*np.std(resid)], 'r--')\n",
    "plt.plot([1,5], [-2*np.std(resid), -2*np.std(resid)], 'r--')\n",
    "plt.xlabel('Predicted value')\n",
    "plt.ylabel('Residual')\n",
    "plt.title('Residual plot');\n",
    "#Residual plot"
   ]
  },
  {
   "cell_type": "markdown",
   "metadata": {},
   "source": [
    "Errors aren't correlated"
   ]
  },
  {
   "cell_type": "code",
   "execution_count": 23,
   "metadata": {},
   "outputs": [
    {
     "data": {
      "text/plain": [
       "0.00031264001309954173"
      ]
     },
     "execution_count": 23,
     "metadata": {},
     "output_type": "execute_result"
    },
    {
     "data": {
      "image/png": "[encoded data removed]",
      "text/plain": [
       "<matplotlib.figure.Figure at 0x204ef7b3048>"
      ]
     },
     "metadata": {},
     "output_type": "display_data"
    }
   ],
   "source": [
    "#are the errors correlated??\n",
    "\n",
    "from itertools import product\n",
    "\n",
    "eiej = [ei*ej \n",
    "        for (i, ei), (j, ej) in product(enumerate(resid), repeat=2)\n",
    "        if i < j]\n",
    "\n",
    "plt.hist(eiej);\n",
    "np.mean(eiej) #No."
   ]
  },
  {
   "cell_type": "markdown",
   "metadata": {},
   "source": [
    "How do the predictions look?"
   ]
  },
  {
   "cell_type": "code",
   "execution_count": 161,
   "metadata": {},
   "outputs": [
    {
     "data": {
      "image/png": "[encoded data removed]",
      "text/plain": [
       "<matplotlib.figure.Figure at 0x204fc6e9240>"
      ]
     },
     "metadata": {},
     "output_type": "display_data"
    }
   ],
   "source": [
    "xplt = lr.predict(X_test)\n",
    "yplt = y_test\n",
    "\n",
    "plt.scatter(xplt, yplt)\n",
    "plt.plot(np.arange(1,6), np.arange(1,6), 'r');\n",
    "plt.plot(np.arange(1,6), np.arange(1,6) + 2*np.std(resid), 'r--')\n",
    "plt.plot(np.arange(1,6), np.arange(1,6) - 2*np.std(resid), 'r--')\n",
    "plt.xlabel('Predicted score')\n",
    "plt.ylabel('Actual score')\n",
    "\n",
    "title = r'Beer ratings versus model predictions, $r^2$ = ' + \"{0:.2f}\".format(lr.score(X_test, y_test))\n",
    "plt.title(title);\n"
   ]
  },
  {
   "cell_type": "code",
   "execution_count": 152,
   "metadata": {},
   "outputs": [
    {
     "data": {
      "text/plain": [
       "0.947"
      ]
     },
     "execution_count": 152,
     "metadata": {},
     "output_type": "execute_result"
    }
   ],
   "source": [
    "#So how confident are we in our accuracy to 2 standard deviations??\n",
    "len(resid[(resid <= 2*np.std(resid)) & (resid >= -2*np.std(resid))])/len(resid)"
   ]
  },
  {
   "cell_type": "markdown",
   "metadata": {},
   "source": [
    "# Other"
   ]
  },
  {
   "cell_type": "code",
   "execution_count": 43,
   "metadata": {},
   "outputs": [
    {
     "data": {
      "text/plain": [
       "0.63969077077018466"
      ]
     },
     "execution_count": 43,
     "metadata": {},
     "output_type": "execute_result"
    }
   ],
   "source": [
    "#compute adjusted r^2\n",
    "\n",
    "n = x.shape[0]\n",
    "k = x.shape[1]\n",
    "\n",
    "adjr2 = 1-(n-1)/(n-k-1)*(1-lr.score(X_test,y_test))\n",
    "\n",
    "adjr2 #marginally less than normal r^2. Nothing to worry about"
   ]
  },
  {
   "cell_type": "code",
   "execution_count": 44,
   "metadata": {
    "scrolled": true
   },
   "outputs": [
    {
     "data": {
      "text/plain": [
       "Style\n",
       "imperial stout           3.846667\n",
       "imperial porter          3.703800\n",
       "lambic style - gueuze    3.700000\n",
       "barley wine              3.679926\n",
       "sour red                 3.678846\n",
       "imperial ipa             3.661051\n",
       "baltic porter            3.657273\n",
       "sour                     3.626574\n",
       "foreign stout            3.625556\n",
       "lambic style - fruit     3.608000\n",
       "Name: WEIGHTED, dtype: float64"
      ]
     },
     "execution_count": 44,
     "metadata": {},
     "output_type": "execute_result"
    }
   ],
   "source": [
    "#Which styles are the most popular for beer?\n",
    "a = df.groupby('Style')['WEIGHTED'].count().sort_values(ascending=False)\n",
    "a = a[a > 100]\n",
    "b = df.groupby('Style')['WEIGHTED'].mean().sort_values(ascending=False).head(10)\n",
    "\n",
    "b\n",
    "#there's no consistent way to get the best styles; too subjective"
   ]
  }
 ],
 "metadata": {
  "kernelspec": {
   "display_name": "Python 3",
   "language": "python",
   "name": "python3"
  },
  "language_info": {
   "codemirror_mode": {
    "name": "ipython",
    "version": 3
   },
   "file_extension": ".py",
   "mimetype": "text/x-python",
   "name": "python",
   "nbconvert_exporter": "python",
   "pygments_lexer": "ipython3",
   "version": "3.6.2"
  }
 },
 "nbformat": 4,
 "nbformat_minor": 2
}
