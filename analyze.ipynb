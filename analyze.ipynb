{
 "cells": [
  {
   "cell_type": "code",
<<<<<<< HEAD
   "execution_count": 1,
=======
<<<<<<< HEAD
   "execution_count": 62,
=======
   "execution_count": 1,
>>>>>>> 966d6660d48ec06e6cc72fee31b519d0a6778b7f
>>>>>>> 782209238178425f25f0ebec44ae381d1610ca85
   "metadata": {},
   "outputs": [
    {
     "name": "stderr",
     "output_type": "stream",
     "text": [
      "c:\\users\\avi\\anaconda3\\lib\\site-packages\\sklearn\\cross_validation.py:44: DeprecationWarning: This module was deprecated in version 0.18 in favor of the model_selection module into which all the refactored classes and functions are moved. Also note that the interface of the new CV iterators are different from that of this module. This module will be removed in 0.20.\n",
      "  \"This module will be removed in 0.20.\", DeprecationWarning)\n"
     ]
    },
    {
     "data": {
      "text/plain": [
       "(5000, 8)"
      ]
     },
<<<<<<< HEAD
     "execution_count": 1,
=======
<<<<<<< HEAD
     "execution_count": 62,
=======
     "execution_count": 1,
>>>>>>> 966d6660d48ec06e6cc72fee31b519d0a6778b7f
>>>>>>> 782209238178425f25f0ebec44ae381d1610ca85
     "metadata": {},
     "output_type": "execute_result"
    }
   ],
   "source": [
    "# Python 2 & 3 Compatibility\n",
    "from __future__ import print_function, division\n",
    "\n",
    "# Necessary imports\n",
    "import re\n",
    "import pandas as pd\n",
    "import numpy as np\n",
    "import patsy\n",
    "import seaborn as sns\n",
    "from seaborn import plt\n",
    "from sklearn.linear_model import Ridge\n",
    "from sklearn.model_selection import train_test_split\n",
    "from sklearn.cross_validation import cross_val_score\n",
    "from sklearn.utils import shuffle\n",
    "from sklearn.metrics import mean_squared_error, r2_score\n",
    "\n",
    "import string\n",
    "from nltk.stem.snowball import SnowballStemmer\n",
    "from nltk.corpus import stopwords\n",
    "from collections import defaultdict\n",
    "\n",
    "\n",
    "%matplotlib inline\n",
    "\n",
    "df = pd.read_csv('data_conso.csv', encoding='iso-8859-1')\n",
    "\n",
    "def av_wordlen(words):\n",
    "    wordlist = words.split(' ')\n",
    "    return np.mean([len(word) for word in wordlist])\n",
    "\n",
    "df.shape"
   ]
  },
  {
   "cell_type": "markdown",
   "metadata": {},
   "source": [
    "# Data Cleaning"
   ]
  },
  {
   "cell_type": "code",
<<<<<<< HEAD
   "execution_count": 2,
=======
<<<<<<< HEAD
   "execution_count": 63,
=======
   "execution_count": 2,
>>>>>>> 966d6660d48ec06e6cc72fee31b519d0a6778b7f
>>>>>>> 782209238178425f25f0ebec44ae381d1610ca85
   "metadata": {
    "collapsed": true
   },
   "outputs": [],
   "source": [
    "#adjust the target variable\n",
    "for i, value in enumerate(df['WEIGHTED']):\n",
    "    try:\n",
    "        float(str(value).split('/')[0])\n",
    "    except:\n",
    "        df.drop(i, inplace=True)\n",
    "\n",
    "#this beer has a null rating; drop it from the dataset\n",
    "df['WEIGHTED'] = df['WEIGHTED'].apply(lambda x: float(str(x).split('/')[0]))"
   ]
  },
  {
   "cell_type": "code",
<<<<<<< HEAD
   "execution_count": 3,
=======
<<<<<<< HEAD
   "execution_count": 64,
=======
   "execution_count": 3,
>>>>>>> 966d6660d48ec06e6cc72fee31b519d0a6778b7f
>>>>>>> 782209238178425f25f0ebec44ae381d1610ca85
   "metadata": {
    "collapsed": true
   },
   "outputs": [],
   "source": [
    "#parse and impute values\n",
    "df['ABV'] = df['ABV'].apply(lambda x: (str(x).strip('%- ')))\n",
    "df['ABV'].replace('',np.nan, inplace=True)\n",
    "df['ABV'] = df['ABV'].apply(lambda x: float(x))\n",
    "df['ABV'] = df['ABV'].fillna(df['ABV'].mean())\n",
    "\n",
    "df['LOG_ABV'] = np.log(df['ABV'])\n",
    "\n",
    "df['Descr'] = df['Descr'].apply(lambda x: x.lower())\n",
    "\n",
    "df['CALORIES'] = df['CALORIES'].fillna(df['CALORIES'].mean())\n",
    "\n",
    "df['Title'] = df['Title'].apply(lambda x: x.split('(')[0])\n",
    "df['Title'] = df['Title'].apply(lambda x: x.split('\\r')[0])\n",
    "df['Title_longest_word'] = df['Title'].apply(lambda x: max([len(i) for i in x.split(' ')]))\n",
    "df['Title_shortest_word'] = df['Title'].apply(lambda x: min([len(i) for i in x.split(' ')]))\n",
    "df['Title_words'] = df['Title'].apply(lambda x: len(x.split(' '))) \n",
    "\n",
    "df['Style'] = df['Style:'].apply(lambda x: x.split('/')[0])\n",
    "df['Style'] = df['Style'].apply(lambda x: x.split('(')[0])\n",
    "df['Style'] = df['Style'].apply(lambda x: x.lower().strip())"
   ]
  },
  {
   "cell_type": "code",
<<<<<<< HEAD
   "execution_count": 65,
=======
<<<<<<< HEAD
   "execution_count": 65,
=======
   "execution_count": 300,
>>>>>>> 966d6660d48ec06e6cc72fee31b519d0a6778b7f
>>>>>>> 782209238178425f25f0ebec44ae381d1610ca85
   "metadata": {},
   "outputs": [
    {
     "data": {
      "text/plain": [
       "WEIGHTED               1.000000\n",
       "LOG_ABV                0.527332\n",
       "CALORIES               0.503974\n",
       "ABV                    0.500146\n",
       "Title_words            0.201007\n",
       "Title_longest_word     0.107394\n",
       "Title_shortest_word   -0.098747\n",
       "Name: WEIGHTED, dtype: float64"
      ]
     },
<<<<<<< HEAD
     "execution_count": 65,
=======
<<<<<<< HEAD
     "execution_count": 65,
=======
     "execution_count": 300,
>>>>>>> 966d6660d48ec06e6cc72fee31b519d0a6778b7f
>>>>>>> 782209238178425f25f0ebec44ae381d1610ca85
     "metadata": {},
     "output_type": "execute_result"
    }
   ],
   "source": [
    "#Select the features with the highest correlations\n",
    "df.corr()['WEIGHTED'].sort_values(ascending=False)"
   ]
  },
  {
   "cell_type": "code",
<<<<<<< HEAD
   "execution_count": 4,
=======
<<<<<<< HEAD
   "execution_count": 66,
=======
   "execution_count": 4,
>>>>>>> 966d6660d48ec06e6cc72fee31b519d0a6778b7f
>>>>>>> 782209238178425f25f0ebec44ae381d1610ca85
   "metadata": {
    "collapsed": true
   },
   "outputs": [],
   "source": [
    "#isolate description keywords\n",
    "\n",
    "stemmer = SnowballStemmer(\"english\", ignore_stopwords=True)\n",
    "\n",
    "word_counts = defaultdict(int)\n",
    "excl = set(string.punctuation)\n",
    "stop = stopwords.words('english')\n",
    "\n",
    "for val in df['Descr']:\n",
    "    val2 = ''.join(ch for ch in val if ch not in excl)\n",
    "    for word in val2.split(' '):\n",
    "        if len(word) > 3 and word not in stop:\n",
    "            word_counts[stemmer.stem(word)] += 1\n",
    "\n",
    "word_tup =  sorted([(a,word_counts[a]) for a in word_counts], key=lambda x: x[1], reverse=True)[2:]\n"
   ]
  },
  {
   "cell_type": "code",
<<<<<<< HEAD
   "execution_count": 5,
=======
<<<<<<< HEAD
   "execution_count": 67,
=======
   "execution_count": 5,
>>>>>>> 966d6660d48ec06e6cc72fee31b519d0a6778b7f
>>>>>>> 782209238178425f25f0ebec44ae381d1610ca85
   "metadata": {
    "collapsed": true
   },
   "outputs": [],
   "source": [
    "word_tup = list(filter(lambda x: x[1] > 100, word_tup))\n",
    "\n",
    "keywords = [a[0] for a in word_tup]\n",
    "best_words = []\n",
    "\n",
    "for word in keywords:\n",
    "    dat = pd.Series(df['Descr'].apply(lambda x: str(word) in x))\n",
    "    if dat.corr(df['WEIGHTED'], method='pearson') > 0.1 and len(word) > 3:\n",
    "        best_words.append(word)\n",
    "\n",
    "for word in best_words:\n",
    "    df[word] = df['Descr'].apply(lambda x: str(word) in x)"
   ]
  },
  {
   "cell_type": "code",
<<<<<<< HEAD
   "execution_count": 68,
=======
<<<<<<< HEAD
   "execution_count": 68,
=======
   "execution_count": 6,
>>>>>>> 966d6660d48ec06e6cc72fee31b519d0a6778b7f
>>>>>>> 782209238178425f25f0ebec44ae381d1610ca85
   "metadata": {},
   "outputs": [
    {
     "name": "stdout",
     "output_type": "stream",
     "text": [
      "0.381676335267\n"
     ]
    },
    {
     "data": {
      "text/plain": [
       "79"
      ]
     },
<<<<<<< HEAD
     "execution_count": 68,
=======
<<<<<<< HEAD
     "execution_count": 68,
=======
     "execution_count": 6,
>>>>>>> 966d6660d48ec06e6cc72fee31b519d0a6778b7f
>>>>>>> 782209238178425f25f0ebec44ae381d1610ca85
     "metadata": {},
     "output_type": "execute_result"
    }
   ],
   "source": [
    "# If we want to see what happens when we consider IBU\n",
    "'''\n",
    "df['IBU'] = df['IBU'].apply(lambda x: ''.join([c for c in str(x) if c in '1234567890']))\n",
    "df['IBU'].replace('', np.nan, inplace=True)\n",
    "df['IBU'] = df['IBU'].apply(lambda x: float(x))\n",
    "df['IBU'] = df['IBU'].fillna(0)''';\n",
    "\n",
    "#IBU is basically useless: Only 38% of data even has a value\n",
    "print(sum(1-df['IBU'].isnull())/len(df['IBU']))\n",
    "\n",
    "len(df['Style'].unique())"
   ]
  },
  {
   "cell_type": "code",
<<<<<<< HEAD
   "execution_count": 6,
=======
<<<<<<< HEAD
   "execution_count": 69,
=======
   "execution_count": 9,
>>>>>>> 966d6660d48ec06e6cc72fee31b519d0a6778b7f
>>>>>>> 782209238178425f25f0ebec44ae381d1610ca85
   "metadata": {
    "collapsed": true
   },
   "outputs": [],
   "source": [
    "#get dummy variables and drop unnecessary columns\n",
    "\n",
    "X=patsy.dmatrix('Place',data=df,return_type='dataframe')\n",
    "df2 = pd.concat([df,X], axis=1)\n",
    "X=patsy.dmatrix('Style',data=df,return_type='dataframe')\n",
    "\n",
    "df2['Int'] = df2['Intercept']\n",
    "\n",
    "cols_to_drop = ['Title', 'Place', 'Style', 'Style:', 'Descr', 'Intercept', 'Int', 'ABV', 'IBU', 'CALORIES']\n",
    "#CALORIES and ABV are highly correlated\n",
    "\n",
    "df2 = pd.concat([df2,X], axis=1)\n",
    "df2 = df2.drop(cols_to_drop, axis=1)\n"
   ]
  },
  {
   "cell_type": "markdown",
   "metadata": {},
   "source": [
    "# Exploration and Feature engineering"
   ]
  },
  {
   "cell_type": "code",
<<<<<<< HEAD
   "execution_count": 52,
=======
<<<<<<< HEAD
   "execution_count": 52,
=======
   "execution_count": 10,
>>>>>>> 966d6660d48ec06e6cc72fee31b519d0a6778b7f
>>>>>>> 782209238178425f25f0ebec44ae381d1610ca85
   "metadata": {},
   "outputs": [
    {
     "data": {
      "text/plain": [
       "Place\n",
       "California         3.7796\n",
       "Michigan           3.6891\n",
       "Florida            3.6691\n",
       "Indiana            3.6536\n",
       "Alaska             3.6465\n",
       "Ohio               3.6132\n",
       "Illinois           3.5849\n",
       "Oregon             3.5718\n",
       "New York           3.5281\n",
       "South  Carolina    3.5032\n",
       "Oklahoma           3.4904\n",
       "North Carolina     3.4749\n",
       "Georgia            3.4630\n",
       "Vermont            3.4627\n",
       "Delaware           3.4624\n",
       "Name: WEIGHTED, dtype: float64"
      ]
     },
<<<<<<< HEAD
     "execution_count": 52,
=======
<<<<<<< HEAD
     "execution_count": 52,
=======
     "execution_count": 10,
>>>>>>> 966d6660d48ec06e6cc72fee31b519d0a6778b7f
>>>>>>> 782209238178425f25f0ebec44ae381d1610ca85
     "metadata": {},
     "output_type": "execute_result"
    }
   ],
   "source": [
    "#Which states are the most popular for beer?\n",
    "df.groupby('Place')['WEIGHTED'].mean().sort_values(ascending=False).head(15)"
   ]
  },
  {
   "cell_type": "code",
<<<<<<< HEAD
=======
<<<<<<< HEAD
>>>>>>> 782209238178425f25f0ebec44ae381d1610ca85
   "execution_count": 70,
   "metadata": {},
   "outputs": [
    {
     "data": {
      "image/png": "iVBORw0KGgoAAAANSUhEUgAAAYgAAAETCAYAAAAs4pGmAAAABHNCSVQICAgIfAhkiAAAAAlwSFlz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\nRERErSSIiIiolQQRERG1kiAiIqLW/wDg+p7AfRRuwAAAAABJRU5ErkJggg==\n",
      "text/plain": [
       "<matplotlib.figure.Figure at 0x1c25d7b67f0>"
      ]
     },
     "metadata": {},
     "output_type": "display_data"
    }
   ],
   "source": [
    "df['WEIGHTED'].hist()\n",
    "np.std(df['WEIGHTED'])\n",
    "plt.xlabel('score')\n",
    "plt.ylabel('frequency')\n",
    "plt.title('Rating histogram, mean = ' + str(\"{0:.2f}\".format(np.mean(df['WEIGHTED']))) + ', stdev = ' + str(\"{0:.2f}\".format(np.std(df['WEIGHTED']))));"
   ]
  },
  {
   "cell_type": "code",
<<<<<<< HEAD
   "execution_count": 81,
=======
   "execution_count": 71,
=======
   "execution_count": 224,
>>>>>>> 966d6660d48ec06e6cc72fee31b519d0a6778b7f
>>>>>>> 782209238178425f25f0ebec44ae381d1610ca85
   "metadata": {},
   "outputs": [],
   "source": [
    "#sample so the pairplot isn't incomprehensibly dense\n",
    "df_dummy = df.sample(200)\n",
    "sns.pairplot(df_dummy[['ABV', 'LOG_ABV', 'CALORIES', 'WEIGHTED']]);"
   ]
  },
  {
   "cell_type": "code",
   "execution_count": 139,
   "metadata": {},
   "outputs": [
    {
     "data": {
      "text/plain": [
       "<matplotlib.text.Text at 0x204fb151c88>"
      ]
     },
     "execution_count": 139,
     "metadata": {},
     "output_type": "execute_result"
    },
    {
     "data": {
      "image/png": "iVBORw0KGgoAAAANSUhEUgAAAYIAAAETCAYAAAA7wAFvAAAABHNCSVQICAgIfAhkiAAAAAlwSFlz\nAAALEgAACxIB0t1+/AAAIABJREFUeJzt3Xt8XHWd8PHPZJJMmiZpkzal9IJQ2n5FLiUtcquUUgsV\npbsoPAJdQEBB3dWH9bK6IOrqA7o+sutlH69oVdAKioqguGgpxQKiC22pBfmFtiL2grk2lyaZTCZ5\n/jhz0snknDNnJnMyM5nv+/XiRTJn5sw36eT3Ped3+f5CIyMjKKWUKl1l+Q5AKaVUfmkiUEqpEqeJ\nQCmlSpwmAqWUKnGaCJRSqsRpIlBKqRJXnu8AlMqEiIwAu4E4MAJUA93Ae40xz6R57buASmPMV0Xk\nPcBMY8y/Bx2zXyLyH8D7gUXGmP1Jj28FXgN0ASGgEvihMebTIvIO4BZjzGtTznUMsBdYbIx5dZJ+\nBFWkNBGoYnSBMabN/kZEPgz8F3BOmte9ASuJYIz5enDhZU5EqoBrgfuB9wH/mvKUfzHG3J947kzg\nBRF5FLgP+A8RWWmMeTLp+TcAD2oSUH5oIlBFTUTKgeOAjsT3xwDfAI4B5gJ/Ad4OrAT+DrhQRPqB\nRmC2MeZ9IvIy8F3gjYlz3WeM+UjifP8KvBPoAX4LXGqMOT4lhk3AdmPMnYnv3wNckHjdd4AlwDDw\nLPBuY8yww49yJdYV/H8CvxaRTxtj+lx+7NrE/9uMMQMishGr4X8y8f4h4F1YiUWptHSMQBWjx0Tk\nORE5CDQnHrs+8f8rgd8ZY84BFgF9wDXGmJ8BDwJfMMZ8xeGcNcaY84BzgfeLyAkisg64Dng9sIKj\nDXCqu4B3JH1/feKxtwK1xpjTE+cgEZOT9wLfT3RvHUo5H8DnRWSniDyPlTA2J/3sXwMuF5GaxPdr\nge6UOwSlXGkiUMXoAmPMMuAtWGMETxljWgCMMV8CnhKRDwJfBU4BalzPdNTPE68/ALQADcCbgR8b\nYw4bY0YApwQCsBWoEpEzROR1WHcbjwJPACcn+vj/FfiiMWZP6otFZDlwOvDDxEPfA25OXNnb/sUY\nc7ox5mSsu53jE+fEGPPnxHu9PfHcmzxiVWocTQSqaBljdgAfAL4lIscDiMjngE8DrcA3gV9jDbCm\n05/09UjiNUMpr427xDECfBurK+Z64NvGmJFEA70Y+CxQB2wWkcsdTvGPifd6NtFN9b+BpcDFLu/X\nCdwLrEp6+CvAO0VkDnAe8AOPn1WpMTQRqKJmjPkh8Dvgi4mH1mFded+DdWV/IRBOHBsCKjI4/S+B\ny0RkRuL7d2IlCSffxRqD+F9Y4wKIyHsTX//aGPNR4BGsO5RRiYHfq4BLjDHHJ/5bAHwfK8mNIyIV\nwCXAH5Ie/m+sMZFbgR8YY/qdXquUE00Eaip4H3Bxok//08CdIvIs8FOsLpPFief9CvjfInKLn5Ma\nY7Zg9fX/TkSeAWZgjTk4PfdVYDuwyxhzMPHw3VhJ6IXE6+uAL6W89B3AC8aYx1Ievx24QETsxGGP\nEewAnscaBL8j6f2Hga8nfhdf9fPzKWULaRlqpZyJyBnAucaYLye+/yBwljHmivxGplRu6fRRpdw1\nAx8VkZuwuoRewRqIVWpK0TsCpZQqcTpGoJRSJU4TgVJKlbiiGSNobe3JaR9WfX01nZ1uK/jzS2PL\njsaWHY0tO8USW2Njbdp1NCV7R1BeHk7/pDzR2LKjsWVHY8vOVIqtZBOBUkopiyYCpZQqcZoIlFKq\nxGkiUEqpEqeJQCmlSpwmAlXQorE4LZ19RGOOFaCVUjlQNOsISlU0FqerN8qMmgiRisKdrpZr8eFh\n7tuyhx3NrXR0R2moi9C0tJEr1iwmXKbXL0rlkiaCAlXqDeF9W/aw+Zn9o9+3d0dHv9+wdmm+wlJq\nSpr6LUqRshvC9u4oIxxtCO/bMm6nwyknGouzo7nV8diO5jbtJlIqxzQRFKCBwaGSbgi7eqN0dEcd\nj3X2DNDV63xMKZUdTQQFqLO7tBvCGTURIpXO4yGVFWFm1EQmOaKJicbiHGo7MuUTuCpeOkZQgOrr\nIjTURWh3SAb1tVVF1xBmp/j3yRgzztMTpaG2tMZ5VPHQT2MBqqosp2lpo+OxpqWzp/zsoa7eKAOD\nw47HooPxorkjGjPOM1Ja4zyquGgiKFBXrFnM2jMWMKuuirIQzKqrYu0ZC7hizeL0Ly5yM2oizKpz\nvutpqCuOOyId8FbFRLuGClS4rIwNa5dy2fknltw6gkhFmKaljWOmj9qK5Y7Iz4D3nPrqSY5KKWea\nCApcpCI8JRuMdAvl7DufHc1tdPYMUF9bRdPS2UVzRzSjpjjGeeyB7HgsXhQJVgVDE4GaVH4XyhX7\nHVG+72rSJVodyFbJAk0EIjIHeBa40BjzYtLj64FPAEPARmPMXUHGoQqH3xXDyQ1Zsd4R5eOuxm+i\n1ZXbKllgiUBEKoBvAP0Oj38BeD1wBHhSRB40xvwtqFgKQanWDEqWbgD1svNPpDwcmjKlNZLvasKV\nFcQHYxP+t0/3OfLTwPv5dyjVz2ipCvKO4E7g68AtKY+fBOwxxnQCiMgTwCrgx14nq6+vztkeoQOD\nQxxqO0L9jGlUVQbbOxaPD7Pxoed5evchWg/30zhzGmefciw3rD+ZcNi9YWtsrA00ronINrZDbUfo\n6HEfQA1XVvDQE/scG7LqaZXceOmpgcVW6Px8jgYGh9i1t93x9bv2tvPuy6zPu59/h8bZ0wP7WTJV\nyP+mUyW2QFpBEbkOaDXGPCIiqYmgDuhK+r4HmJHunJ2dfROOKx/9ops2N49p2Fo6+3lw2z76+gdd\nb8EbG2tpbe0JJJ6Jmkhs8Vichlr3AdT+IwM8+dwBx9c++dxBLj5zoeeVaqH+3qKx+ITvCPx8jlo6\n+2jt7Hd8fdvhfva+3M6c+uq0/w7xwVjB/B4L9d8Uiic2PwkhqHvtG4ALRWQrcDpwt4jMTRzrBpIj\nqwUOBxTHGJO9wCffc8kLrZa/PYDqpGnpbPqjQ1OqtEZ8eJhNm5u57a6nefe/b+a2u55m0+Zm4sPO\ni+Xc+P0c2TOVnCTPVEr376DdQqUnkDsCY8wq++tEMniPMebVxEN/ApaISAPQi9UtdGcQcSTLR79o\nvuaSF3IJa68B1KH4SEFMuczVeE6uBmT9fo4ymalU7NNzVW5N2vRREdkA1BhjvikiHwQewboj2WiM\nce4PyKF8NMr5mkteyDNCvKaFhstwbchOO7Eh40Y50wY9lwk0lxcemXyO/DbwQQxkq+IVeCIwxqxO\nfPli0mMPAQ8F/d7J8tEo52MuebHMCHFbKGc3WNuNNY5TFoLhEWuwc9PmZl+NcrYNei4TaC4vPDL5\nHGW6/iJSEaZx9vSC7etWk6O45uNNQL76RSe7ZlAQtfyDGGtwO6fdkC1bMhuwkgBkNp6TzaY+uR7P\n8dtf71emnyM70RZC0leFr6RWFuejX3SyV8jm8s7H6cp65bL5rD/nuKzHGvxcrUdjcXbtaXN8fbq7\nmmzviHLddZjru8FiX2mtCltJJYJ89ovmsmaQV993Ng2Q2/mcukoe3LaPnt4Brln32qxi99P9MpFG\nOdvXBtF1GMSFx1StPaXyq6QSga1Y+0X99n1fvnoR5pXDHGjtZXgEykIwv7GGy1cv8n2+ofiI65X1\n4zsPQijEhrVLMroz8Hu1PpFGOZvX2onwtMWzeWz7+HkL2XYd6oCsKhYlmQiCFGQpCb+Dmfdv3cdf\nW3pHvx8egb+29HL/1n1jnud1vrUrFrheWQ+PwGPbDxAuCwU2DXLZktlseXZ8o7xsyay0g59+74hS\nE2F9bSUL59TQNxCjsyeas67DYr3wUKVDE0GOBD133+/VtPfzWn0+r4315x7vemXt9L5+ZHK1Pjzs\nvFWl2+PJ5ZT9dsmkJsKOnkE6ega5oGke6848TvvhVcnQRJAjE516mHwn4cTv1bTX89q7o9zziOH6\nN7827fn6o0OuV9ZO7+uH36v1aCzOtucOOZ5j23OHuGLNktHnepUN8RpY9UqEu/Z28Pak91BqqtNE\nkAMTmbvvd2aO36tpr+cBPLX7Vaqryrns/BM9zhdhRk2EK9YsJh4f5rEdBx3PVZnoz8+En6v1g629\nxF2u/OPDIxxs7eWEeVZ5qnQJONeDykpNRSWzjiBIE5m77zTn/cFt+8bNefe7DsLrebYdzdbUzOqq\nCsfj1VUVRCrChMvKElfGufuY2AOot994Fp+56Wxuv/EsNqxdOibp9fTFPM9hH5/I3P9cz/NXqphp\nIvDJa1FVto1Kpg2Z30VFl69exLEN7lezHd0DtHb2caR/0PH4kf7Y6Ht39UaJxpyLpEUH41kXgvNa\n8HTCvDrP19rHJ5KAtfCaUkdp11AafgaBs527v+9Al2sXjlP3hN9FRfdv3cehDvey3ZHKMIRCdPY4\nJ4LDvdHR97beo8wxGVRWlGV95WyPiUyLlNMfHRrzs9RWV7KgcTr7W4+Me92CxunUVlcCE5/7H/QC\nw3TjPkoVCk0EafgdBPbbqKQmFruWTiqvhsxrUZHXXUayGdMrfTeiQ3HnOwK3x73YP/9200JHz+Do\nz99QF+Gk4+q56sKlVEfKue0dK7jj7u3sb+llBAgBC+bU8LFrl4+ea6Krd4NarRvEimzln+4GmDlN\nBB4yGQT226ikJpYR5zFRz4bM64Pu1V1iG4zFPWcFJb93a2cfbu19fNg6vmCO/52QUn9+Owl2dEd5\ncverPGP+xgo5hg0XLuFTN5xJT98g+1t6WTCnZvROIFkurupzvVrXbUW212ZEauIKufx6odNE4CGb\nmSXZXq2Xhayk0FBXxcpl81h/znHjnuPng55u1hAcveL31YiGQq7n8XU8iZ+7lWhshKd2v8r25lbe\ncNqxXLFmMScd3+D6/EJbvVss1V+nokIuv17oNBF4yHX9Ga/EMgJ8+MrTWTR/BgvmzXRcherng+7V\nXWJLvuJPdxfTOHMaVZVhBgbHD5JXVYZpnDnN+4dO4uduxTYwGC/KP2KdlpofmoAnRu+XPOR6ZonX\n7KKG2ioWzZ+RdVXN5BlGR2cXWe9VFrLfI+I4y8hrBk+kIszKU+eOexxg5alzM/odzKiJUF87vnvH\nS7ppoLnaDjJXdFpqfgRRfr2U6B1BGrmcWeJncDO5VEJyI5vJlWbqeIXTzJxMXPnGJYRCIcfVu5mI\nVITpTrNGIFW6q+hC6w7Ix2ZEKn+7AU4VmgjSyPXMErfEcvnqRWza3Dyusb30vEX09g0yLVKe8Qc9\nebzCaaDVr0z64b0Gd9u7+hmKu4yOu5jIOox8dQc4/Ru7jfuo3NAEPDGaCHya6MyS5Jk+Toll0+Zm\nxyvbJ3YdJDo4TENdhOqqCsdEMFkfdK8qmoNDQ9xx9/Zxpa8/du1yKsutj5l55XDG7+n1sxVqf7zT\nxYPbuI/KnXxsPDVVaCIImNdMH7uR8rqyHRi0+rrbu6O0d0cTZZKHAv2gZzMP+467tzuWvr7j7u18\n6oYzAZDjZnqe44yljfz51e4xJaAvPW8RLZ19jrEUeneAbiIzuXQXt+xpIgjYRHfkStU3MMQnrjvD\nsc9/ogtpsp2H3dM3yIHWXsdjB1p76ekbpLa6klkzplEzrZze/qFxz6uZVs4/vu3U0Z+hprqCB7b9\nmU9++/c5XdGtpj5NwJnTRJChTBrbXOzIlcouEZ38Qc/VQhq3pBWPD7PuzOOYFilnyGEge39Lr+Pq\naLDuDPa39I6uBfjce8/ho1/73ZhkUDOtnM+99xzg6B+xW1cZZLeiWynlThOBT26NrT2Ym+kq39Qd\nudLN/bfZJaKTZTpzximZeSWtx3ce5LEdB4+Wg6itZLnMGU00C+bUuJbKKAtZpSFs0yor+PLNqzjU\n1stze9pZtngWx86uGfOabFd0F8KCMqWKkSYCn9wa223PHSAaGxnXOEJmfdipV7ahUMixJr9dItqW\nSaPpdefglbTsMEbLQfQMjkk0tdWVzG+sGTNGYJvfOHb2UGoMj27fP+7uJdsV3em2g9QaNEo50wVl\nPng1ttGY1TrajeMPH31p9FgmC9KS6/R/6UOrqat2ztHJJaLBu9Hs6Blg34Gu0ec77X2w+Zn93Ldl\nj+dCKDfJi70+du1yFibuDMC6E1iYUiQuXQw270VZ4++I4OhWlU6Lz5IXnd3yjafzvuhMqUKjicCH\nTAZzn9x1aExj9HcrX8OxDdXYFXnsBvLy1YscXx+pCBOpKOdwr/PCK7tEtM2r0QwBn793J7fd9TT3\n/Nqw3bQ4Ps/eqCbdhjapkldshsvKkONmMmO6tdnNjOkVyHEzx4xR+F0d7ZVAjwzE+Mnje0cb8dSV\nxR/75u/41i9eoC969PfnJ/koVco0EfiQydVyNDacqNhpNVAf+drTHOrow+7ksadV3r91n+s56uv8\nlynwajTtrpz27iiPbT9Ah8v+A3aDnrzxTYijpSlc40yKxW5sOxMJrLM3Nq6xzaQMgB1LVeXYLpyB\nweEx5x3TyI9Yd2ZP7X6VD3/lKTZtbqYvGst6FzOlSkVgiUBEwiKyUUSeFJEnROSUlOMfEJHnRWRr\n4j8JKpaJ8rP9Y7LY0DCbfmPNenEq1gbujVA0FqezO8ppJ85yfJ3TtMjLVy8a0y3jxu243aAnd099\n9t1nc37TfM/zJZfF8NPYZlKHJ1xWxmXnn0h1xLkvf0dzGz19gx7rL6yidZt+85LWoFEqjSAHi9cD\nGGNWishq4A7g75OOrwCuNcY8G2AMOZM8mNvePeD53Ef+8ArPGO9yy3b/vV1obswgaqLExMI5NRzp\nj3G4N+o5LfL+rfscB2pTuU3xPG3xrDGDqPYUzg1rlxAus2oMtSdtotNQG2G5HK011NUbdZ362tHt\nb3aUU4Lr6o267qLW2TPA/pbetF12L/6ls6AXnSlVCAJLBMaYB0TkF4lvXwOk1hdYAdwiInOBXxpj\nPhtULLmQPE2x9XA/d9z9jOP2jeEy+MOL6XcIs/vvZyVm7kRjQ2x77tXR4/ZK4lWnH8ubz3qN40yX\naCxOa2efrx3JwLojeMOyY3l+X2dizr1VtuK5l1rZuv3AuPUHTsXrpk2vGjdFc0ZNhKrKstFV0Mki\nlWHP2VFeCS7drKsFc2rSrr843BvlnJPn8uTuV8cd00VnqhhMxmy3QKePGmOGROR7wFuBy1MO3wt8\nBegGfiYilxhjfpF6Dlt9fTXl5bn9JTQ2+t9ZK9mCeTO58KzX8Isn/jzuWGVFmP5o+n7n5P57r/UD\nT+w6RE11hJsuPZVw2OrJi8eH2fjQ8zy9+xAtnf2+4x4egYvOPoGb3rqMvoEhHnh8Dw8/9fLocTuW\n6mmV3HjpqWNeu8DjvAODQ4RCZcD4RBAKhZg9u4aqyqMftZuvWsHA4BCd3VHq6yJjjqVauWw+D24b\nP56yctk8Fr1mlutx2+yZ03j/lU3MesTw9O5DtB3uZ/bMaZx9yrHcsP7k0d/pZMj28zYZNLbsBBlb\n8t956+F+GjP83GYSW2jEba/EHEpc9f8eeJ0x5oiIhIA6Y0xX4vg/ArOMMf/H7RytrT05DbSxsXZC\nRcDsImvJe+rObajm1aSB4Vxae8aC0cVhqatu/bKHCBrqIpx24ix27W13vJqeVVfF7Tee5Xj14fR7\na+ns45ZvPO34c5eF4DM3nZ31kv+jXWbj7yDCZWWjx5/YdchxPCb595bPdQQT/bwFSWPLTtCxuf2d\nJ3+m3STH1thYm3YbwcDuCETkGmBBosunD+ty0b5krAN2i8hJwBFgDbAxqFhyJbkh+cnjY/vlR4BD\nHX2uu3mVheC0E2exc097Vu9tLw6zvvbXFZTKbqjbu6M8tuOg6/MyrdyZTfE3+3eZbq+EofgIa1cs\nYP25xzs+z+6+uvS8Rfx02595rrllTNG65C4ntxo0utBMFZrJLrEeZNfQT4HviMhvgQrgn4G3ikiN\nMeabInIr8BgQBR41xjwcYCwTkroatr62kj4f3T/Jzm+az9svWMxtdz3tq6ZQquQZLukGSO1B3RCM\n3q24Xa07DSBnOoiaySBw8u9y7AD02JXZXqugnVRHyvnAVcvZf/Cw70Y9qM3ONbGoiZrsEutBDhYf\nAd7ucfwe4J6g3j+XUstLuM3HB4gOxll5ylxefOWwY1eG35pCqZJX1LpdfUcqyojGhkcbd7uNd+uq\ncptFlM0gqt9B4NTfpVvZimzqJx1qOwLg+w8k17ubZZq8lHIz2SXWtdYQ3ldwXrdoThrqqrh6nbUk\nwumcV6xZTHx4hMd3HHBtiJ3YK2qvWLPYI5k4n9Dtyr+hNsKyJbPZtad9wpU7/dSC9/O73NHcxvpz\nj8+uflLKNppeV/VB3Hp7JZabr1qR0blUaZvsEuslnQj8dA1kUl4Cxv4jJV+ZJiebda9fyGPbD2QU\nq72iFo5efW83VuNnN/R23aNUbglnuTSyYe1SohfkrivDqxa813oDW7r1Aam3xdle1ef61jtdYhkY\nHL8Hg1JeJrPEekknAj+NiNctWlVlmOlV5Sk7ap0wZkctp2Rz2uLZNNRWenYxubGvmNeuWEBsaJjH\ndx70fWdRVRlmMBYf94GarI08pkXKXe9ObOnWByTfFk/kqj7Xt97pEktnd7S0/9hUxiZzx7WS/WwO\nDA75akS8btHecNqxo/9INdWVPLBtH5/89h/G3F0Mj4yw5dmjV/923Z8FjdOzSgTt3QN84tu/p+tI\nLG1JiVTVkXJuvWYFjTOnBfaB8upm648OpU1aTUtnU1td6eu2eCJX9bm+9U6XWOrrIvR0+V/zoZRt\nMi7USjYRdHb7b0ScbtFOO7GBCxK1eLx21KqqdO6nPpgY2LSvkOtrKqmprqRvIEZnjxWXW6PZdSTm\nedzN4d4oleVlgSQBP91sM2oirndCIWD18vmjv2s/t8UTvarP5a13usRSVVlOYc6GV6qEE4Fd4dNP\nI5J8i9bRPcDmZ/eza08bW3ccHLM4y4lT2QUYv9nL6UsbueYiIRqLE66s4Pu/2s1vd44vizARQdbW\n8dPNFqkIs1zmODaWq5vmcc1FR+sO+rktjlSEWbZk9pg7LtuyJbPSJrxc33rrtpmqWJVsIqiqLM+4\nayBSEeaxHQfGDPSmW5zl16497UQviI/utLXvYPbXj+EyiDvkn6Bq63j31beO6avPtLFMd1vs1juW\nSa9Zrm69J7NPV6lcKtlEAJk3Sl4NntsgqNtK41TJ3VFdvVEOth7x/4NgNXwNdVb861eewI8efYkX\nX+l0XWWbS1599e3dUe55xHD9m1/rWMhuIo1lNBZn50ttjsd2vtTO5avjeWmIJ2vwXalcKelEkGmj\n5Gdf31QrT51LKBRiR3MbHT0DhFyem9xt8/Kh7oz7/2+7dgXzGmtG43/nJa+btBWuXn31AE/tfpXq\nqvIx0zlz0VhO9upLpaYq3aGMo41S6qbwLZ19YzaP8dpYpaE2wgXL5zOrroqykFW4be0ZC7jyjUvY\nsHYpn7juDD58xem84bS5jq9P7rY5dtb0jH+GisQMp3Q/VxD8bNwTxG5gmWx0o5RyV9J3BE68Zr94\nzQxxW5xlb1mZfL50G870RbNYfDQJVWS9XLFmMf0DQ451/yGYK/TJXn2p1FSVNhGIyLUpD40A/cCL\nxpjdgUSVR26zX+LxYa5Z99q04wqpXR5O52vvjnLB8vmse/3C0eqbQ/ERjpYYz6xRr6oM0ziBBjYX\nXUjhsjKuXif86S8djtNDg7pC15k6Sk2cnzuCvweagAcS318CHABqRGSTMeYLQQU32bwGgx/feRBC\nITasXeJ7XMHrfLv2tMHICLv2to+786ivrcoo7nNPnZtVA57r6pte00ODukJPHucJV1aM2z1NKZWe\nn0QwF1hujDkMICL/BjwEnAM8C0yZRJBuMPix7QcIl4XYsHapr8HOdLNpkqedJs+7f/uFr/Ud88pT\n5nLVG5f4fn6yXFffhPxdodvTbgt1ExOlCpmfRNAIYxZF9gMNiW0o89sxnQPJ3SLpZr9AZpUpvc7n\nNt10R3Mb160vZ1aaOMAaoL56nWR19R6NxdluWhyPTWTjC51Lr1Tx8ZMIfgJsEZEfYc0yugx4IDF2\ncCjI4IIUj48fxG1a2ui6UtXW0TPAvgNdLJo/g0hF2LF/Pfkxt5kybtNDO3sG6BsY8rVvwXJpzLpL\n6PuPGNdaR7kY2NW59EoVj7SJwBhzi4hcAlwIxIHPGWN+JSJnAxuCDjAXUhvraCzOf/1oJ486dIu8\nccV8Lmia51rVMwR8/t6dzKqLUF1VwZH+QTp7Bmmoi3D6ktmMAM+91EZHd5SZNRX09mc2A8guUJba\nxVJpJ5nB+OjCsWy7W+7bssd1do8dg069VKp0+J0++mfgfhIr90VklTHmt4FFlSNOg6F24+12Nbzz\npXZuv/EsCIUc9wywk4M9+8fW3h3l0ZQ7ic7eWMYx2wXKnLpYwHmzm0z42RzGbWDX3gUsHsvPil0v\nhRybUoXOz/TRrwDrgb1JD49gbThf0Nymbnqxu0U2rF1CuCz9iuBslYXgDafN5fk/j9/S0k3Qq3EB\nzj1l7rgYst0FbDIUcmxKFQs/dwQXAWKMKapi6pluMWmzu0WSr8j3Heji8/fuzGl88xqnc93F7mUg\ngtpY3WsAe1ZdhGscBp+DmF2UK4Ucm1LFwk+Lso/MijkWhEy3mLSldotEKsIsmj+DWS6lDLK1eMGM\n0fM7lYGwG7j27igjHG3g7tuyZ0Lv61UOomnp+MHndLuA5bpsRCYKOTaliomfO4IO4AUReQoYsB80\nxtwQWFQ54GcqaLKG2gjLpdGxayZSEaa6qsL3ufz4456O0bLTqfzunpaO291GJnP9C7mwWyHHplQx\n8ZMI/jvxX1HxqkOTauUpc7l6nXiuED7S7zy4HMIaMLH/75dXQ5XJ7mlO0nUrZTLXP9d7++ZSIcem\nVDFxTQQiMtcY8yrw2CTGk1Pjr3ztWUPjC7559bt39UbpdJllNIJ1N9HRk9ndgldDlcnuaU789pv7\nGXwu5MJuhRybUsXE647gW1h1hR7n6EWvbQRYFGBcOeF25WtvB+m3Lo3XlWe4jIyTABxtqJy6b7LZ\nPc2Wrt/ba56MAAAbwUlEQVQ8mxXDl69ehHnlMAdaexkesWY8zW+s4fLV+f8IaNE5pSbONREYYy5J\nfLnCGNORfExEjg8yqFxLvfLNtC6N15Wn05aQTspCVqVoezHY5asXOa5szmTzdidB9Jvfv3Uff23p\nHf1+eAT+2tLL/Vv35X1mjhadU2rivLqGFmLdBTwsIhdz9I6gHHgY8F8ZbQpwaphfc0wN2122Skw1\nPALvestJnHriLGqrK9m0udm1++bmq1ZkXbNnRk2EiMv2mJUV4Yz7zYO4wwiCFp1TKnteXUOfAi4A\n5gHJq4iHgF8EGVQhSO2ysRvm9ecez/6WXhbMqQFg554nfC00KwvBt3/5JxrqIpx24ix27W13fN6O\n5jYGBo+WpchuEZlbQJmviNOZOUpNfV5dQzcAiMhHjTGfy/TEIhIG7gIEqwV6T/JGNiKyHvgEVmLZ\naIy5K9P3CILbjJvLVy/i/q37xj0+r3E6+1vSbzSfXJoiufx0qs6eATq7o1lvHdfVG2Vg0Lm/amBw\nOOOGW2fmKDX1+WlvvisiHwBqsLqHwsAJxpjUnctSrQcwxqwUkdXAHVib3CAiFVj7GLweOAI8KSIP\nGmP+ltVPkUNuM27MK4fH9JPbj69ePo8QoTEDqdVV5ZSXhTh8JOZabtrtcbvoXE9Xdgu5p0XKPd9z\nWiSzFKMzc5Sa+vyWod4LnI21S9lFwHPpXmSMeUBE7C6k1wCHkw6fBOwxxnQCiMgTwCrgx27nq6+v\nprw8t41OY2PtmO8HBodcu2wOtPU6Pv7Cnzv5ykfWEB2M8/KhbhbOqeEnj+3hd7sPwZGYa7eR2+Mr\nl82jqrKcqqTYBgaH6OyOUl8XoarS+59sqO2I53tOm15F4+zpnudI9b63N1E9rZKndx+i7XA/s2dO\n4+xTjuWG9ScTDhdWPZ/Uf9NCorFlR2PLTiax+UkEs40xbxCRO4GfAp8BNvs5eWLzmu8BbwUuTzpU\nB3Qlfd8DzPA6V2dnn5+39K2xsXbcwGJLZx+tnc5X4sMus4PaDvez9+V25tRXM29mFfc8/IKvRWwN\ntRGWLZnNrj3tY2YFrT/nOABaW3tcu6kuPe8EevtijgPI8VichtpKx+qqDbUR4oOxrAZUL115PBef\nuXDMzJyOjvRdYpPJ6d+0UGhs2dHYspMcm5+E4CcRdCb+b4BlxpjfJ7p2fDHGvENEPgr8XkReZ4w5\nAnQDydHVMvaOIS8yLUsBY/vJMyl0t1wa2bB2KdEL3DeOd+umemLXocS+BOML0XntG5ztRjY2nZmj\n1NTk575+i4j8GPg18CER+TpJNYfciMg1InJL4ts+YDjxH8CfgCUi0iAilVjdQr/LOPoci1SEWbZk\ndkavSe4nT1foLhSCWXVVrD1jweh0VLeic15JZWAw7lmI7vLVi1g4p4ayxITfshAsnFMYC8CUUoUn\nbSIwxnwM+FdjzF+wdiQzWF096fwUaBKR3wKPAP8MvFVEbjLGxIAPJh7/HdasIff9IXMkGovT0tnn\nWZXSb5nVshBc0DRvzAIv+47CSUNthE/dcCa333gWG9YuTVtKOpPqqamVNu0FYPZYQfICMKWUSuW1\noCyENTDcYYz5HwBjzLMiMgh8F1jndeJEF9DbPY4/BDyURcwZc+prX7lsPuvPOW5MgxyNxdnpc4HY\nCLDuzKOvt9cdnHbiLMfpocsWz6Ky3P/AaibdVMnz+YtlAZhSqnB4jRF8FXgzME1E3o+1mvjzwHXA\n94IPLXec+tof3LaPvv7BMSUSMrkKb0iMDaQmmfq6CAvn1IwWtptZE2H6tAp27W1n646DrhvMJC9g\ng8yqpyaPU+gCMKVUprwSwZuAk4E5wHeAW4FDwHJjzAuTEFtOZHKFnMlVuD028IPfmDF7FXckSkiv\nbprHm848jkf+569j9j5OrQTaFx3ih79p5sVXOsfdrThtYO9UOiJ5nEIXgCmlMuWVCLqMMb1Ar4ic\nBNxhjPnSJMWVM+mukFsP91NZXjY6ayfdVXhy5c1oLM6Tf3zV8XlPP/833nreInbtce5q2tHcSjw+\nzFO7DxGNHZ34n3q3ctn5J7Jq2TwYGaFhxjQe2LbPsxCdLgBTSmXKKxEkL0tqKcYkAN5XyJUVYb74\no5109gyOdtm8ddUJY0oup0oeeF21bJ7jFTpYM3v+fKjbNQmlKzVhJ4pde9vHVSdNV4hOSzMrpTLh\nNxE478pSBLyukAcG46MNuVspCTc7mts4+3VzPJ9TM60843UJttREkdql5NXPn23lUqVUafJKBKeL\niH25G0r+GhgxxhRNy+K0U1lfdIj+6Pir+QOt6ZMAkOizL6eqssyxyFtVZZj5jbW+B3xTudUL0pk/\nSqlc86o+WlhFZCYg9Qp5MBbnk9/5H8fn+ikpDdbAa+PMaZx76rFseXb8EohzT51LpCLs2E2zZMEM\nnn7Bu76eWxy52LNYKaWSZVvtuCjZq3ijsTiNM6fR4lJXyI/TFs+iqzfK21YtoiwUYrtppbMnSn1t\nhOVi1QNq6ewjXBaiafFs1r1+IfHhkdFZOzv3tLmOL6w76zj+54VXHesF5XLPYqWUghJLBLZIRZiz\nTzmWB7f5X2kbqSgjNjRMfW2E6qoKnnupla3bD4xebX/6XWfR2zdITXUlD2zbxye//YcxYwMhYMGc\nGj527XIqy8tZeercMdNObaub5vG+tzfxpR8+WzB7FiulpraS7Se4Yf3JrD1jAbPqqgjBaF0eN+ec\nMpfP3HQ2p504i7+29NLRMzim3s8D2/Yxp76aB7btY/Mz+8cNEI9gzTa64+7tAFz5xiWJ948kahBF\nWHvGAv7hQuuK/Yo1i0fjK3OoUeTGz4IypZRK5uuOQEQ2YC0uuwO43Bhzd6BRTYJw+Oi4wb4DXdx5\n707P5/9xb4e1LsBji8n15x6ftvrogdZeevoGqa2u9JzZM5E9i3VBmVIqE2nvCETk37FKTbwNK3Fc\nLyL/EXRgkyVSEWbR/BmuxeJsnT0D7G/pdb3a7khz3DY8AvuTpqe6VR/1e9zp+U1LGx2P6YIypZQT\nP11D64BrgAFjTDdwIXBxoFFNMq/G01ZfG+H3f3qVkEsX0sgI/GBzM/W1lWnf7w8vthAfHvZVDTUb\n2XYrKaVKk5+uIXuSvD2hMZL02JRhN5JP7DrkOJunKlLOb59zLidhO9jWR8209L/Sx3ceZN/BbvoG\nYoFM79QFZUqpTPhpdX4E3Ac0iMg/A78FNgUa1SSyr8qH4iNsWLuUO//pXM49ZS71NdaVvT2IfKjN\n37aMvf1DrDr9WGal6Wr6a0sv7d1Rzw1mJirTbiWlVGlKe/lqjPmciKwD/gIcB3zSGPOLNC8rePH4\nMJs2NzsuunrXJa/je//9Io/vPDhmcxe/li+ezVVvXDo6CO33pfb0zlzp6Rtkf0svC+bUUFudvstK\nKVWa0iYCEVkF9HN0E5kRETkD2GOMyfs+w9na+NDzjouuRkZGGB4eYdtz7gXh0qmZXjlmENpvrSF7\neueCrN/ZMjg0xB13bx8tnGdXTLXXMCilVDI/XUOfAB4EbsbabvLnwDeBZ0TkqgBjC0w0Fufp3Ycc\njz35x1d5bMfBjO4AkoXLYP7sGsDfIHSyXE3vvOPu7Y5bVdprGJRSKpmfy8MQcJox5hUAEZmHtVHN\namAr8MOgggtKV2+U1sPO5SXcyj74ter0eWP65O1B6O2mlY6eqGsxOcjN9M6evkHXwnnJaxiUUsrm\n545gnp0EAIwxB4FjE1NJ/e71XlBm1ERonDktq9dWVTr/yuzN7FNr+dgzeJYtmQ04J4FcTu/c3+K8\nj4L93vt9lNhWSpUWP3cET4rIJuAHWInjSuB3IvIWoChbFa9aQ25lpctCcH7TfEIhHKuNnt80n2su\nEsf3i8birjuV1ddE+MR1Z+TsKn3BnBrXu46ykHVcKaWS+UkE70n8dxMQB34D3AVchLXQrCjdsP5k\n+voHx+3iNTwy4tzQnz6Pay4S4sPDlIVCvnf/ig8Pc88jxnXAuOtIlP7oUM4SQW11JfMbaxw315nf\nqLOHlFLj+Zk+OpS4I/g5VldQGFhljHk46OCClFxrKHnRVbqGPtPFWvdt2cNTu90XogVR/+dj1y53\nnTWklFKp/Ewf/Szwj0AF0AbMB54Bzgo2tMlhL7qy+W3oU1/nxKsktC2I+j+V5eV86oYzdR2BUsoX\nP4PFVwILsVYXXwCsBbxbtykgF6tyvUpCA6w8ZW6g9X9qqys56fgGTQJKKU9+EsGhxAyh3cAyY8xj\nwDHBhjU12CWhnTTURrh6nejWkUqpvPPTCnWJyDXAs8A/iMjZQH2wYU0NXgvKlkuj1gBSShUEP7OG\n3glcZYy5R0TWA98Abkv3IhGpADYCx2NVLL3dGPNg0vEPAO/iaDfTu40xJrPwsxONxTnUdoR4LB54\nY+y0eb3XLKNcisbiWn1UKZWWn0RwhzHmegBjzIcyOPfVQLsx5hoRaQB2YpWqsK0ArjXGPJvBOSck\nPjzMfVv2WIXmeqI01Oa2/LOTfJSEHvNzBlDm2okmHaWKl59EcIqI1BhjMl089mPg/sTXIWAo5fgK\n4BYRmQv80hjz2QzPn7H7tuxxLDQHjFsRnGt+ZhnlymT+nPlIOkqp3PK7Mc0rImKwqpACYIxZ4/Ui\nO3GISC1WQkjtTroX+ArQDfxMRC7xKm9dX19NeXn2V5oDg0Ou+w3v2tvOuy+bRlVl4VTmbGyszep1\nk/FzJsd21wN/dEw61dMqufHSUyf0PhONrdBobNnR2LKTSWx+WoSPZBuIiCwEfgZ81RizKenxEPBF\nY0xX4vtfAk2AayLo7OzLNgwAWjr7aO10LjTXdrifvS+3T9oVezqNjbW0tvZk9dqgf87k2KKxOE8+\nN34VNsCTzx3k4jMXTmo30UR+b0HT2LKjsWUnOTY/CSHtvbsx5nGsbp2TgKeBkcRjnkTkGODXwEeN\nMRtTDtcBu0WkJpEU1mDNSgqM11TOIFb35stk/pxe6yTsvRWUUoUvbSIQkZuB24EPAjXAN0Tkwz7O\nfSvWNNOPi8jWxH//ICI3Je4EbgUeA7YBzwddssJrKmcQq3vzZTJ/zlJJrkpNdX66hq7DKifxe2NM\nu4i8HvgDcKfXi4wxN2NtZuN2/B7gHv+hTlw+p3JOpsn6Oe2kkzxGYJtKyVWpqc5PIogbYwZFRkss\nD2BVIS06yVM5w5UVxAdjU7Kxmswpq6WSXJWayvwkgsdF5E5guohcilWO+tFgwwpWpCJM4+zpBTvQ\nkyuTMWU1H+sklFK55Wei978ALwHPAdcCDwN+xghUCclFkT6lVH74uSP4T+D7xphvBB2MUkqpyecn\nEbwEfDFRJmITVlJ4OdColFJKTRo/6wi+Yox5A/AmrIHiB0TkicAjU0opNSl8FYMRkRlYG9JchHUX\n8UiQQSmllJo8fhaUPQQ8D5wOfNwYcwrWbmVFIxqL09LZRzRWlLNelVIqUH7GCL4J/Crx9WWJPYzP\nxFplXNC8KmMqpZSy+Oka2o1VYmI/cDfwOHBCkEHlil2Oub07yghHK2Pet2VPvkNTSqmC4XpHICJv\nBd6DVRX0AeAa4C5jzKcmKbYJicbi7GhudTy2o7mNgcHU7RGUUqo0eXUN/QRrc5lzjTF7AERkeFKi\nyoF0lTE7u6O++sWUUmqq82oLT8MqOPeEiLwM/DDN8wuKXRmz3SEZ1NdWUV8XoafLuW6/UkqVEtcx\nAmPMbmPMh4H5wGeB1cAxIvJLEXnzJMWXtXTlmAtpNzKllMqntK2hMSYO/Bz4uYg0Yo0VfBar5lBB\n08qYSimVXkaXxcaYVqzaQ/8ZTDi5pZUxlVIqvZLoH5mMcsxKKVWsfJWYUEopNXVpIlBKqRKniUAp\npUqcJgKllCpxmgiUUqrEaSJQSqkSp4lAKaVKnCYCpZQqcZoIlFKqxGkiUEqpEqeJQCmlSlxgtYZE\npALYCBwPRIDbjTEPJh1fD3wCGAI2GmPuCioWpZRS7oK8I7gaaDfGnAe8Cfh/9oFEkvgCcBFwPnCT\niBwTYCxKKaVcBFl99MfA/YmvQ1hX/raTgD3GmE4AEXkCWJV4jaP6+mrKy3NbQrqxsTan58sljS07\nGlt2NLbsTJXYAksExpheABGpxUoItyUdrgO6kr7vAWZ4na+zsy+n8TU21tLa2pPTc+ZKrmKLxuI5\n34ehFH5vQdDYsqOxZSc5Nj8JIdD9CERkIfAz4KvGmE1Jh7qB5OhqgcNBxlJK4sPD3LdlDzuaW+no\njtJQF6FpaSNXrFlMuEznByilxgpysPgY4NfA+4wxj6Yc/hOwREQagF6sbqE7g4ql1Ny3ZQ+bn9k/\n+n17d3T0+w1rl+YrLKVUgQryjuBWoB74uIh8PPHYXcB0Y8w3ReSDwCNYA9YbjTEHAoylZERjcXY0\ntzoe29HcxmXnn6jbdSqlxghyjOBm4GaP4w8BDwX1/qWqqzdKR3fU8VhnzwBdvVHdtlMpNYZ2GE8x\nM2oiNNRFHI/V11Yxo8b5mFKqdGkimGIiFWGaljY6HmtaOlu7hZRS4wQ6a0jlxxVrFgPWmEBnzwD1\ntVU0LZ09+rhSSiXTRDAFhcvK2LB2KZedf2LO1xEopaYeTQRTWKQirAPDSqm0dIxAKaVKnCYCpZQq\ncZoIlFKqxGkiUEqpEqeJQCmlSpwmAqWUKnGaCJRSqsSVZCKIxuIcajtCNBbPdyhZicbitHT2FW38\nSqnCUlILysZs2NITpaG2uDZs0Q1nlFJBKKlEUOwbthR7/EqpwlQyl5HpNmwp9G6WYo9fKVW4SiYR\n+NmwpZAVe/xKqcJVMomg2DdsKfb4lVKFq2QSQbFv2FLs8SulCldJDRYX+4YtxR6/UqowlVQiSN6w\nJVxZQXwwVlRX0rrhjFIqCCXTNZQsUhHm2NnTi7YRtTecKdb4lVKFpSQTgVJKqaM0ESilVInTRKCU\nUiVOE4FSSpU4TQRKKVXiAp0+KiJnAZ8zxqxOefwDwLsAu3jOu40xJshYlFJKOQssEYjIR4BrgCMO\nh1cA1xpjng3q/ZVSSvkTZNfQXuBtLsdWALeIyBMickuAMSillEojNDIyEtjJReR44F5jzNkpj38S\n+ArQDfwM+Jox5hde5xoaio+Ul+sCKqWUylAo3RMmvcSEiISALxpjuhLf/xJoAjwTQWdnX07jaGys\npbW1J6fnzBWNLTsaW3Y0tuwUS2yNjbVpn5+PWkN1wG4ROQlr/GANsDEPcSillGISE4GIbABqjDHf\nFJFbgceAKPCoMebhyYpDKaXUWIEmAmPMy8DZia83JT1+D3BPkO89UdFYXCt8KqVKQkmVofYjPjzM\nfVv2sKO5lY7uKA11EZqWNnLFmsWEy3T9nVJq6tFEkOK+LXvY/Mz+0e/bu6Oj329YuzRfYSmlVGD0\nEjdJNBZnR3Or47EdzW1EY/FJjkgppYKniSBJV2+Uju6o47HOngG6ep2PKaVUMdNEkGRGTYSGuojj\nsfraKmbUOB9TSqlipokgSaQiTNPSRsdjTUtn6+whpdSUpIPFKa5YsxiwxgQ6ewaor62iaens0ceV\nUmqq0USQIlxWxoa1S7ns/BN1HYFSqiRoInARqQgzp74632EopVTgdIxAKaVKnCYCpZQqcZoIlFKq\nxGkiUEqpEqeJQCmlSlygW1UqpZQqfHpHoJRSJU4TgVJKlThNBEopVeI0ESilVInTRKCUUiVOE4FS\nSpU4TQRKKVXiSrL6qIjMAZ4FLjTGvJjveGwicgvwd0Al8FVjzLfzHBIAIlIBfA84HogDNxbC701E\nzgI+Z4xZLSKLge8CI8Bu4J+MMcMFEtvpwH9h/e6iwLXGmL8VQmxJj20A3m+MOSdfcSXiSP69zQHu\nAuqBMNbvbW+BxHY68HVgCGgG3pWvz1vi73Mj1t9nBLgdeIEM/h5K7o4g8Uv7BtCf71iSichq4Fxg\nJXA+sDCvAY31ZqDcGHMu8GngjjzHg4h8BPgWUJV46D+B24wx5wEh4O8LKLYvYTWyq4GfAh/NU2hO\nsSEiTcA7sX5veeMQ2/8FfmCMWQXcBry2gGL7JPBpY8wbsBrft+QrNuBqoD3x2X8T8P/I8O+h5BIB\ncCdWJj+Y70BSrAP+CPwMeAj4RX7DGaMZKBeRMqAOiOU5HoC9wNuSvl8BPJ74+lfA2kmP6KjU2K40\nxuxMfF0ODEx+SKPGxCYis4DPAP+ct4iOSv29rQQWiMhm4B+ArfkIKiE1th1Ag4iEgFry+zfxY+Dj\nia9DWHcpGf09lFQiEJHrgFZjzCP5jsXBbOAM4H8B7wF+kPiQFYJerNvOF7Fu1b+c12gAY8xPGPvH\nFzLG2PVSeoAZkx+VJTU2Y8whABE5F3gf8IU8hTYmNhEJA98GPoj1O8srh3/T44FOY8xa4BXyeCfl\nENtLWH8HfwKOIY9JyhjTa4zpEZFa4H6su6eM/h5KKhEANwAXishW4HTgbhGZm9+QRrUDjxhjBo0x\nBuuqsTHPMdk+gBXbUmAZ8D0RqUrzmsmW3P9ZCxzOVyBOROQKrDvRtxhjWvMdT8IKYAnwNeBe4HUi\n8sX8hjRGO/Bg4uuHsC6UCsWXgPOMMa8F7gb+I5/BiMhC4DHgHmPMJjL8eyipRGCMWWWMOT/RV7sT\na/Dp1TyHZXsCeJOIhERkHjAd6w+hEHQCXYmvO4AKrMG7QrIjMc4CcDGwLY+xjCEiV2PdCaw2xuzL\ndzw2Y8wfjDEnJ/4ergReMMYUQheR7Qms8SmAVcDzeYwlVQfQnfj6INaAdl6IyDHAr4GPGmM2Jh7O\n6O+hJGcNFSJjzC9EZBXwB6wE/U/GmHiew7J9AdgoItuwZjTdaow5kueYUn0IuEtEKrFu1+/PczzA\naPfLl7G6Nn4qIgCPG2M+mdfAisOHgG+JyHuxLkQ25DmeZO8C7hWRIWAQuDGPsdyKlYg+LiL2WMHN\nwJf9/j1oGWqllCpxJdU1pJRSajxNBEopVeI0ESilVInTRKCUUiVOE4FSSpU4nT6qlA8icgpWCZDL\nE6tMEZGXgT6s6YMVwF+Ad2AVljsAvNYYcyDpHOcDXzDGLJ/U4JVKQ+8IlPLneqy52O9JefzNxpjT\njTEnY9Vk+hdjTDdWzagrU557LVaVSKUKiiYCpdIQkXKsCo8fA5pE5ESH55RhLeW3y0tvJGkBVKIk\nxyXADwIPWKkMaSJQKr23AH8xxjQDDwDvTjr2sIjsBPYDF2FVggSr8uNMSSwlBi4FthhjOicpZqV8\n00SgVHrXAz9MfH0fcF1i6T4c7RqaB/w78IiI2JUfv8vRu4JrsCp9KlVwNBEo5SGxS9abgQ8lBoe/\nhVXX5TKHp38fa/OUWYnvvwdckSgKJsCjQcerVDZ01pBS3q4GHjXGXGw/ICL/xtjuIdsbgb8aY9oA\njDGviMgrWLu63ZNUH16pgqKJQClv12NVd0z2VeAjWGWIHxaRQayy3FHGzxT6DnAPMG6AWalCodVH\nlVKqxOkYgVJKlThNBEopVeI0ESilVInTRKCUUiVOE4FSSpU4TQRKKVXiNBEopVSJ+/+n8H4GGmFX\nrwAAAABJRU5ErkJggg==\n",
      "text/plain": [
       "<matplotlib.figure.Figure at 0x204f7a9e748>"
      ]
     },
     "metadata": {},
     "output_type": "display_data"
    }
   ],
   "source": [
    "df_dummy = df.sample(200)\n",
    "plt.scatter(df_dummy['ABV'], df_dummy['WEIGHTED'])\n",
    "plt.xlabel('ABV')\n",
    "plt.ylabel('Average Rating')\n",
    "plt.title('Rating vs ABV')"
   ]
  },
  {
   "cell_type": "code",
<<<<<<< HEAD
   "execution_count": 380,
   "metadata": {},
=======
<<<<<<< HEAD
   "execution_count": 72,
   "metadata": {
    "scrolled": false
   },
=======
   "execution_count": 380,
   "metadata": {},
>>>>>>> 966d6660d48ec06e6cc72fee31b519d0a6778b7f
>>>>>>> 782209238178425f25f0ebec44ae381d1610ca85
   "outputs": [
    {
     "data": {
      "text/plain": [
       "108"
      ]
     },
     "execution_count": 380,
     "metadata": {},
     "output_type": "execute_result"
    }
   ],
   "source": [
    "len(df[df.Style == 'sour'])"
   ]
  },
  {
   "cell_type": "code",
   "execution_count": 138,
   "metadata": {
    "scrolled": false
   },
   "outputs": [
    {
     "data": {
      "text/plain": [
       "WEIGHTED                      1.000000\n",
       "LOG_ABV                       0.527332\n",
       "Style[T.imperial stout]       0.320847\n",
       "barrel                        0.272299\n",
       "imperi                        0.254078\n",
       "stout                         0.238617\n",
       "Title_words                   0.201007\n",
       "Style[T.imperial ipa]         0.181751\n",
       "bourbon                       0.180545\n",
       "doubl                         0.154693\n",
       "coffe                         0.145631\n",
       "Place[T.California]           0.143037\n",
       "vanilla                       0.140101\n",
       "chocol                        0.131358\n",
       "releas                        0.129348\n",
       "roast                         0.128255\n",
       "Style[T.barley wine]          0.128217\n",
       "intens                        0.127841\n",
       "dark                          0.127534\n",
       "month                         0.127259\n",
       "black                         0.124196\n",
       "wine                          0.123245\n",
       "bottl                         0.113520\n",
       "batch                         0.113310\n",
       "Place[T.Michigan]             0.113001\n",
       "bean                          0.112676\n",
       "complex                       0.111292\n",
       "Title_longest_word            0.107394\n",
       "Place[T.Florida]              0.106363\n",
       "Place[T.Indiana]              0.101219\n",
       "                                ...   \n",
       "Style[T.irish ale]           -0.047162\n",
       "Style[T.english pale ale]    -0.054453\n",
       "Style[T.german hefeweizen]   -0.059824\n",
       "Style[T.spice]               -0.060500\n",
       "Style[T.oktoberfest]         -0.062871\n",
       "Style[T.dortmunder]          -0.063648\n",
       "Place[T.Tennessee]           -0.064826\n",
       "Place[T.Mississippi]         -0.067282\n",
       "Style[T.kãâ¶lsch]           -0.070041\n",
       "Style[T.cream ale]           -0.070993\n",
       "Style[T.pilsener]            -0.072780\n",
       "Place[T.West Virginia]       -0.075148\n",
       "Place[T.Louisiana]           -0.081885\n",
       "Place[T.Montana]             -0.082350\n",
       "Style[T.premium lager]       -0.084502\n",
       "Place[T.North Dakota]        -0.086300\n",
       "Place[T.Arkansas]            -0.086997\n",
       "Style[T.low alcohol]         -0.090328\n",
       "Place[T.Wisconsin]           -0.091378\n",
       "Title_shortest_word          -0.098747\n",
       "Place[T.South Dakota]        -0.100604\n",
       "Style[T.fruit beer]          -0.102604\n",
       "Style[T.amber lager]         -0.102696\n",
       "Style[T.amber ale]           -0.118326\n",
       "Place[T.Nevada]              -0.129744\n",
       "Style[T.wheat ale]           -0.137393\n",
       "Style[T.golden ale]          -0.160173\n",
       "Place[T.Missouri]            -0.199143\n",
       "Style[T.malt liquor]         -0.221949\n",
       "Style[T.pale lager]          -0.395819\n",
       "Name: WEIGHTED, Length: 151, dtype: float64"
      ]
     },
<<<<<<< HEAD
     "execution_count": 138,
=======
<<<<<<< HEAD
     "execution_count": 72,
=======
     "execution_count": 11,
>>>>>>> 966d6660d48ec06e6cc72fee31b519d0a6778b7f
>>>>>>> 782209238178425f25f0ebec44ae381d1610ca85
     "metadata": {},
     "output_type": "execute_result"
    }
   ],
   "source": [
    "#Select the features with the highest correlations\n",
    "\n",
    "feat_values = df2.corr()['WEIGHTED'].sort_values(ascending=False)\n",
    "best_feats = feat_values.apply(lambda x: np.abs(x))\n",
    "best_feats = feat_values.sort_values(ascending=False)[best_feats > 0.02].index\n",
    "feat_values"
   ]
  },
  {
   "cell_type": "code",
   "execution_count": 14,
   "metadata": {},
   "outputs": [
    {
     "data": {
      "text/plain": [
       "(4999, 115)"
      ]
     },
     "execution_count": 14,
     "metadata": {},
     "output_type": "execute_result"
    }
   ],
   "source": [
    "x.shape"
   ]
  },
  {
   "cell_type": "markdown",
   "metadata": {},
   "source": [
    "# Model Building"
   ]
  },
  {
   "cell_type": "code",
<<<<<<< HEAD
   "execution_count": 146,
=======
<<<<<<< HEAD
   "execution_count": 73,
=======
   "execution_count": 13,
>>>>>>> 966d6660d48ec06e6cc72fee31b519d0a6778b7f
>>>>>>> 782209238178425f25f0ebec44ae381d1610ca85
   "metadata": {},
   "outputs": [
    {
     "name": "stdout",
     "output_type": "stream",
     "text": [
<<<<<<< HEAD
      "0.0671531564699 0.631238965278\n"
=======
<<<<<<< HEAD
      "0.0670813881291 0.629381467712\n"
=======
      "0.0673251518725 0.628955086605\n"
>>>>>>> 966d6660d48ec06e6cc72fee31b519d0a6778b7f
>>>>>>> 782209238178425f25f0ebec44ae381d1610ca85
     ]
    }
   ],
   "source": [
    "#get average behavior for the model\n",
    "df2 = shuffle(df2)\n",
    "y = df2['WEIGHTED']\n",
    "x = df2[[col for col in best_feats if col != 'WEIGHTED']]\n",
    "\n",
    "lr2 = Ridge(alpha=0.01, normalize=True)\n",
    "\n",
    "scores = cross_val_score(lr2, x, y, cv=20, scoring='neg_mean_squared_error')\n",
    "scores_2 = cross_val_score(lr2, x, y, cv=20, scoring='r2')\n",
    "print(-np.mean(scores), np.mean(scores_2))\n",
    "\n",
    "#without keywords: 0.622, 0.069\n",
    "#with keywords: .630, 0.0673"
   ]
  },
  {
   "cell_type": "code",
<<<<<<< HEAD
   "execution_count": 158,
=======
<<<<<<< HEAD
   "execution_count": 94,
=======
   "execution_count": 15,
>>>>>>> 966d6660d48ec06e6cc72fee31b519d0a6778b7f
>>>>>>> 782209238178425f25f0ebec44ae381d1610ca85
   "metadata": {},
   "outputs": [
    {
     "name": "stdout",
     "output_type": "stream",
     "text": [
<<<<<<< HEAD
      "Train r2: 0.652865068071\n",
      "Test r2: 0.653223691965\n",
      "Train mse:  0.0645693955534\n",
      "Test mse:  0.0632964579438\n"
=======
<<<<<<< HEAD
      "Train r2: 0.655329076197\n",
      "Test r2: 0.640492236911\n",
      "Train mse:  0.0631225927078\n",
      "Test mse:  0.0697333497585\n"
=======
      "Train r2: 0.653078345213\n",
      "Test r2: 0.647981199214\n",
      "Train mse:  0.064050057228\n",
      "Test mse:  0.0661959046893\n"
>>>>>>> 966d6660d48ec06e6cc72fee31b519d0a6778b7f
>>>>>>> 782209238178425f25f0ebec44ae381d1610ca85
     ]
    }
   ],
   "source": [
    "#Define model variables\n",
    "df2 = shuffle(df2)\n",
    "y = df2['WEIGHTED']\n",
    "x = df2[[col for col in best_feats if (col != 'WEIGHTED')]]\n",
    "\n",
    "lr = Ridge(alpha=0.01, normalize=True)\n",
    "\n",
    "# Split the data into training and test sets\n",
    "X_train, X_test, y_train, y_test = train_test_split(x, y, test_size=0.2)\n",
    "\n",
    "# Fit the model against the training data\n",
    "lr.fit(X_train, y_train)\n",
    "\n",
    "# Evaluate the model against the testing data\n",
    "print('Train r2:', lr.score(X_train, y_train))\n",
    "print('Test r2:', lr.score(X_test, y_test))\n",
    "\n",
    "print('Train mse: ',mean_squared_error(y_train, lr.predict(X_train)))\n",
    "print('Test mse: ', mean_squared_error(y_test, lr.predict(X_test)))"
   ]
  },
  {
   "cell_type": "code",
<<<<<<< HEAD
   "execution_count": 156,
=======
<<<<<<< HEAD
   "execution_count": 75,
=======
   "execution_count": 295,
>>>>>>> 966d6660d48ec06e6cc72fee31b519d0a6778b7f
>>>>>>> 782209238178425f25f0ebec44ae381d1610ca85
   "metadata": {
    "collapsed": true
   },
   "outputs": [],
   "source": [
    "#save the model for later\n",
    "\n",
    "import pickle as pkl\n",
    "\n",
    "data = {'data': df, 'x':x, 'y':y, 'model': lr}\n",
    "\n",
    "with open('beer_model.pkl', 'wb') as picklefile:\n",
    "    pkl.dump(data, picklefile)"
   ]
  },
  {
   "cell_type": "markdown",
   "metadata": {},
   "source": [
    "# Model Evaluation"
   ]
  },
  {
   "cell_type": "code",
<<<<<<< HEAD
   "execution_count": 20,
=======
<<<<<<< HEAD
   "execution_count": 76,
=======
   "execution_count": 17,
>>>>>>> 966d6660d48ec06e6cc72fee31b519d0a6778b7f
>>>>>>> 782209238178425f25f0ebec44ae381d1610ca85
   "metadata": {
    "scrolled": true
   },
   "outputs": [
    {
     "data": {
      "text/plain": [
<<<<<<< HEAD
       "[('Style[T.lambic style - gueuze]', 0.35424845416120865),\n",
       " ('Place[T.California]', 0.34349862885614946),\n",
       " ('LOG_ABV', 0.27139482200787352),\n",
       " ('Place[T.Michigan]', 0.24346786330366335),\n",
       " ('Style[T.imperial stout]', 0.23163792451099802),\n",
       " ('Style[T.grodziskie]', 0.2168551900048207),\n",
       " ('Place[T.Florida]', 0.20186298471115011),\n",
       " ('Style[T.baltic porter]', 0.19796561766859058),\n",
       " ('Place[T.Oregon]', 0.1965658275680883),\n",
       " ('Place[T.Indiana]', 0.19641402257574911),\n",
       " ('Place[T.Ohio]', 0.17066344435578362),\n",
       " ('Style[T.foreign stout]', 0.16521978594294295),\n",
       " ('Style[T.sour]', 0.1643874506060691),\n",
       " ('Place[T.Alaska]', 0.16295915250100684),\n",
       " ('Place[T.New York]', 0.16049656347025737),\n",
       " ('Place[T.Illinois]', 0.14886979159396513),\n",
       " ('Style[T.sour red]', 0.14160444809080944),\n",
       " ('Place[T.Vermont]', 0.13919080225589472),\n",
       " ('Style[T.imperial porter]', 0.13746265445703548),\n",
       " ('Style[T.black ipa]', 0.13497724498408048),\n",
       " ('Style[T.imperial ipa]', 0.12701330262585797),\n",
       " ('barrel', 0.12407719785528881),\n",
       " ('Place[T.Minnesota]', 0.12264991622292627),\n",
       " ('Style[T.saison]', 0.11260821726468652),\n",
       " ('Style[T.sweet stout]', 0.11082702709594912),\n",
       " ('Place[T.Delaware]', 0.106952026044331),\n",
       " ('Place[T.New Jersey]', 0.1066780806672578),\n",
       " ('Place[T.Maine]', 0.1046422916664264),\n",
       " ('Style[T.barley wine]', 0.1001216603320791),\n",
       " ('Style[T.lambic style - fruit]', 0.099586134541500379),\n",
       " ('Style[T.abt]', 0.099367052195131825),\n",
       " ('Place[T.North Carolina]', 0.094722838353725705),\n",
       " ('Place[T.Georgia]', 0.090042259382591888),\n",
       " ('Style[T.weizen bock]', 0.089984349620838705),\n",
       " ('Place[T.Maryland]', 0.077669908758371667),\n",
       " ('bean', 0.077656003906325571),\n",
       " ('Place[T.Oklahoma]', 0.074492881160799426),\n",
       " ('Place[T.Colorado]', 0.072347573582459523),\n",
       " ('Place[T.Pennsylvania]', 0.068449101441133295),\n",
       " ('Style[T.india pale ale]', 0.067591107522470231),\n",
       " ('Style[T.smoked]', 0.067479111832667457),\n",
       " ('doubl', 0.064426638072672848),\n",
       " ('Place[T.South  Carolina]', 0.06346935129455164),\n",
       " ('Place[T.New Hampshire]', 0.058086037746229911),\n",
       " ('coffe', 0.045738107856247649),\n",
       " ('intens', 0.045227296474336272),\n",
       " ('roast', 0.041148579369857309),\n",
       " ('bottl', 0.031883965360542749),\n",
       " ('vanilla', 0.031503137866205705),\n",
       " ('bourbon', -0.03478153398687233),\n",
       " ('Place[T.Kansas]', -0.044489811915275027),\n",
       " ('Style[T.brown ale]', -0.060324877030507096),\n",
       " ('Place[T.Tennessee]', -0.070019040538856214),\n",
       " ('Place[T.Montana]', -0.07053030364235216),\n",
       " ('Place[T.Wyoming]', -0.073803855426267426),\n",
       " ('Style[T.premium bitter]', -0.078411979949099833),\n",
       " ('Place[T.Nebraska]', -0.085326050350937668),\n",
       " ('Place[T.Louisiana]', -0.09016079009867918),\n",
       " ('Place[T.Mississippi]', -0.090868141646630304),\n",
       " ('Style[T.german hefeweizen]', -0.093220950758189272),\n",
       " ('Style[T.witbier]', -0.10646018455047825),\n",
       " ('Place[T.Nevada]', -0.12450583292672679),\n",
       " ('Place[T.Rhode Island]', -0.13528866219545682),\n",
       " ('Place[T.South Dakota]', -0.14359792876016178),\n",
       " ('Place[T.West Virginia]', -0.15195069684467422),\n",
       " ('Place[T.Arkansas]', -0.15242880101845627),\n",
       " ('Style[T.altbier]', -0.15831218663811411),\n",
       " ('Style[T.english pale ale]', -0.16117926559811904),\n",
       " ('Style[T.heller bock]', -0.16450411275141089),\n",
       " ('Style[T.scottish ale]', -0.16791222825711949),\n",
       " ('Style[T.spice]', -0.17573091131170762),\n",
       " ('Style[T.pilsener]', -0.17864566354422134),\n",
       " ('Style[T.czech pilsner]', -0.17889483921953436),\n",
       " ('Style[T.dunkel]', -0.17983370173568561),\n",
       " ('Style[T.oktoberfest]', -0.18376065516530105),\n",
       " ('Style[T.irish ale]', -0.19541055971716381),\n",
       " ('Place[T.North Dakota]', -0.21654935470545114),\n",
       " ('Place[T.Missouri]', -0.22866878814524463),\n",
       " ('Style[T.amber ale]', -0.23313937116626118),\n",
       " ('Style[T.kã\\x83â¶lsch]', -0.23699518085233698),\n",
       " ('Style[T.fruit beer]', -0.2471343843986738),\n",
       " ('Style[T.california common]', -0.25946012851545325),\n",
       " ('Style[T.cider]', -0.27709607078592047),\n",
       " ('Style[T.wheat ale]', -0.28850699182102812),\n",
       " ('Style[T.dortmunder]', -0.30395205782278645),\n",
       " ('Style[T.amber lager]', -0.32492387570664411),\n",
       " ('Style[T.golden ale]', -0.32845160604481233),\n",
       " ('Style[T.cream ale]', -0.39443830047990092),\n",
       " ('Style[T.premium lager]', -0.40159730176160757),\n",
       " ('Style[T.german kristallweizen]', -0.44993627186223001),\n",
       " ('Style[T.perry]', -0.56007044703772557),\n",
       " ('Style[T.radler]', -0.5817739660568052),\n",
       " ('Style[T.low alcohol]', -0.91551324374171672),\n",
       " ('Style[T.pale lager]', -1.0572712165505063),\n",
       " ('Style[T.malt liquor]', -1.7870116517506014)]"
      ]
     },
     "execution_count": 20,
=======
<<<<<<< HEAD
       "[('Place[T.California]', 0.32888872111049172),\n",
       " ('LOG_ABV', 0.28932316254148066),\n",
       " ('Place[T.Michigan]', 0.2534890303042735),\n",
       " ('Style[T.imperial stout]', 0.20152575799062519),\n",
       " ('Place[T.Florida]', 0.19301719679601334),\n",
       " ('Style[T.grodziskie]', 0.1882226515138645),\n",
       " ('Style[T.lambic style - gueuze]', 0.18752258353120069),\n",
       " ('Style[T.sour]', 0.18664422680689849),\n",
       " ('Place[T.Indiana]', 0.18064563303050807),\n",
       " ('Place[T.Oregon]', 0.17247950062355066),\n",
       " ('Style[T.lambic style - fruit]', 0.1654662853273566),\n",
       " ('Place[T.Illinois]', 0.15633113203556578),\n",
       " ('Style[T.foreign stout]', 0.15554744788882405),\n",
       " ('Style[T.baltic porter]', 0.15474878012497548),\n",
       " ('Place[T.Ohio]', 0.15050909537320067),\n",
       " ('Place[T.Vermont]', 0.14364173406957148),\n",
       " ('Place[T.New York]', 0.14003716684229325),\n",
       " ('Style[T.black ipa]', 0.13972687534071429),\n",
       " ('Style[T.imperial porter]', 0.13871086704860866),\n",
       " ('Place[T.Alaska]', 0.13692092437324391),\n",
       " ('Style[T.imperial ipa]', 0.13567085661559625),\n",
       " ('Style[T.sour red]', 0.12678766273057049),\n",
       " ('Style[T.weizen bock]', 0.12271643571153221),\n",
       " ('barrel', 0.11347334363426241),\n",
       " ('Style[T.saison]', 0.11155443228232079),\n",
       " ('Place[T.Minnesota]', 0.10801899016925144),\n",
       " ('Style[T.smoked]', 0.1071633312088671),\n",
       " ('Style[T.sweet stout]', 0.097478883101095246),\n",
       " ('Place[T.North Carolina]', 0.097094973055983774),\n",
       " ('Place[T.Delaware]', 0.09391402519167448),\n",
       " ('Place[T.Georgia]', 0.09016390140512251),\n",
       " ('Place[T.Colorado]', 0.088431497286526564),\n",
       " ('Style[T.abt]', 0.08675444955602403),\n",
       " ('Place[T.Pennsylvania]', 0.075064033108450987),\n",
       " ('Style[T.barley wine]', 0.073534700169361547),\n",
       " ('Place[T.New Jersey]', 0.073435438871987835),\n",
       " ('Place[T.Maine]', 0.070401063992878155),\n",
       " ('Style[T.india pale ale]', 0.069507563171273504),\n",
       " ('Place[T.Oklahoma]', 0.069499894419478514),\n",
       " ('doubl', 0.066395575231105036),\n",
       " ('bean', 0.065809263833037646),\n",
       " ('Place[T.South  Carolina]', 0.064691767770861539),\n",
       " ('bottl', 0.057688464213200702),\n",
       " ('coffe', 0.0571179258640186),\n",
       " ('intens', 0.049649146656390711),\n",
       " ('Place[T.New Hampshire]', 0.048045624268475362),\n",
       " ('Place[T.Maryland]', 0.043864802874189625),\n",
       " ('roast', 0.035506771459291764),\n",
       " ('Style[T.american pale ale]', -0.034449480756370082),\n",
       " ('Style[T.american strong ale]', -0.042127622828056488),\n",
       " ('Style[T.premium bitter]', -0.04742861056472529),\n",
       " ('Place[T.Hawaii]', -0.047879529350469276),\n",
       " ('Place[T.Kansas]', -0.049892904894931096),\n",
       " ('Place[T.Wisconsin]', -0.050701824201665489),\n",
       " ('Place[T.Wyoming]', -0.055711733669066114),\n",
       " ('Place[T.Tennessee]', -0.072913851865135854),\n",
       " ('Style[T.brown ale]', -0.078437400653979722),\n",
       " ('Style[T.witbier]', -0.081292451628173126),\n",
       " ('Place[T.Montana]', -0.082632776650005429),\n",
       " ('Place[T.Nebraska]', -0.0887603724176112),\n",
       " ('Style[T.german hefeweizen]', -0.10107143314839356),\n",
       " ('Place[T.Louisiana]', -0.12680393584171457),\n",
       " ('Style[T.english pale ale]', -0.12761360491829787),\n",
       " ('Place[T.Mississippi]', -0.13159413095407355),\n",
       " ('Place[T.Rhode Island]', -0.13896508915778177),\n",
       " ('Style[T.spice]', -0.15457219552085349),\n",
       " ('Place[T.Arkansas]', -0.15502657187242977),\n",
       " ('Style[T.altbier]', -0.15943500480585041),\n",
       " ('Style[T.heller bock]', -0.16521952332746948),\n",
       " ('Style[T.scottish ale]', -0.16850725434957656),\n",
       " ('Style[T.pilsener]', -0.17525521347697939),\n",
       " ('Place[T.Nevada]', -0.17541725661940644),\n",
       " ('Style[T.dunkel]', -0.17856641345515664),\n",
       " ('Place[T.West Virginia]', -0.18157313442131831),\n",
       " ('Place[T.South Dakota]', -0.18412944014813454),\n",
       " ('Style[T.oktoberfest]', -0.18719239397828433),\n",
       " ('Style[T.irish ale]', -0.19318808493892686),\n",
       " ('Place[T.North Dakota]', -0.21125996009923836),\n",
       " ('Style[T.kã\\x83â¶lsch]', -0.21233320443451234),\n",
       " ('Style[T.amber ale]', -0.22458680208793985),\n",
       " ('Style[T.fruit beer]', -0.22888571312665956),\n",
       " ('Style[T.czech pilsner]', -0.23002685434980191),\n",
       " ('Style[T.wheat ale]', -0.23760995949019312),\n",
       " ('Style[T.california common]', -0.24980690232662128),\n",
       " ('Place[T.Missouri]', -0.25448371853067447),\n",
       " ('Style[T.cider]', -0.27591978517590748),\n",
       " ('Style[T.dortmunder]', -0.28095637557425968),\n",
       " ('Style[T.amber lager]', -0.31242610399621473),\n",
       " ('Style[T.golden ale]', -0.34253179471760276),\n",
       " ('Style[T.premium lager]', -0.36636568069194503),\n",
       " ('Style[T.cream ale]', -0.37031571583229),\n",
       " ('Style[T.radler]', -0.43926003969273769),\n",
       " ('Style[T.low alcohol]', -0.51332500169539874),\n",
       " ('Style[T.german kristallweizen]', -0.56842373895535447),\n",
       " ('Style[T.perry]', -0.57716568717325534),\n",
       " ('Style[T.pale lager]', -0.99450230447570542),\n",
       " ('Style[T.malt liquor]', -1.5227999922242754)]"
      ]
     },
     "execution_count": 76,
=======
       "[('Place[T.California]', 0.35582971831900645),\n",
       " ('Place[T.Michigan]', 0.27673279469464979),\n",
       " ('Style[T.lambic style - gueuze]', 0.27380187239540443),\n",
       " ('LOG_ABV', 0.26763707620050209),\n",
       " ('Style[T.imperial stout]', 0.24185322516577742),\n",
       " ('Place[T.Indiana]', 0.20725013899487235),\n",
       " ('Style[T.grodziskie]', 0.20504196063344579),\n",
       " ('Style[T.foreign stout]', 0.20377917393561418),\n",
       " ('Style[T.sour]', 0.19183560321964169),\n",
       " ('Place[T.Oregon]', 0.18526147200339471),\n",
       " ('Place[T.Alaska]', 0.17989664771570438),\n",
       " ('Place[T.Florida]', 0.17672595570974819),\n",
       " ('Style[T.imperial porter]', 0.16835511601594308),\n",
       " ('Place[T.Ohio]', 0.16588225418236047),\n",
       " ('Style[T.baltic porter]', 0.15525542290415062),\n",
       " ('Place[T.Vermont]', 0.15075792852136843),\n",
       " ('Place[T.Illinois]', 0.1488595366488174),\n",
       " ('Style[T.sour red]', 0.14775488497819642),\n",
       " ('Style[T.saison]', 0.13869628588822319),\n",
       " ('Style[T.black ipa]', 0.13004229799154021),\n",
       " ('Style[T.imperial ipa]', 0.12919811072335902),\n",
       " ('Place[T.New York]', 0.1276379989155805),\n",
       " ('Style[T.lambic style - fruit]', 0.12223444417570822),\n",
       " ('Style[T.weizen bock]', 0.12031435795871531),\n",
       " ('Style[T.sweet stout]', 0.10604782005193465),\n",
       " ('Place[T.New Jersey]', 0.10522976329081959),\n",
       " ('Place[T.Delaware]', 0.10195669119633222),\n",
       " ('Place[T.Minnesota]', 0.10128312285268393),\n",
       " ('Place[T.Rhode Island]', -0.12616140021065497),\n",
       " ('Place[T.Mississippi]', -0.12830149828200124),\n",
       " ('Style[T.german hefeweizen]', -0.13130781287012183),\n",
       " ('Style[T.irish ale]', -0.13810408121261961),\n",
       " ('Place[T.Arkansas]', -0.14062131489521629),\n",
       " ('Style[T.altbier]', -0.14253971718664513),\n",
       " ('Style[T.spice]', -0.15359765619244942),\n",
       " ('Style[T.english pale ale]', -0.15462814644242065),\n",
       " ('Place[T.Nevada]', -0.16104324687334315),\n",
       " ('Place[T.South Dakota]', -0.17350856286725208),\n",
       " ('Place[T.West Virginia]', -0.17976071777061406),\n",
       " ('Style[T.oktoberfest]', -0.18021174915230997),\n",
       " ('Style[T.heller bock]', -0.18567927167585338),\n",
       " ('Style[T.dunkel]', -0.19504565154426531),\n",
       " ('Style[T.pilsener]', -0.20089427877986746),\n",
       " ('Place[T.North Dakota]', -0.20368159458920509),\n",
       " ('Style[T.scottish ale]', -0.21860948418916834),\n",
       " ('Style[T.kã\\x83â¶lsch]', -0.22021770925192155),\n",
       " ('Style[T.amber ale]', -0.22166680318069582),\n",
       " ('Style[T.czech pilsner]', -0.22811341732012713),\n",
       " ('Style[T.wheat ale]', -0.24623520131803844),\n",
       " ('Style[T.fruit beer]', -0.2605936456697418),\n",
       " ('Style[T.california common]', -0.27242408009241625),\n",
       " ('Place[T.Missouri]', -0.28461803300102345),\n",
       " ('Style[T.cider]', -0.29495245019389482),\n",
       " ('Style[T.cream ale]', -0.31656703904041228),\n",
       " ('Style[T.amber lager]', -0.32446637188700461),\n",
       " ('Style[T.dortmunder]', -0.32847076480551957),\n",
       " ('Style[T.golden ale]', -0.3383247481458157),\n",
       " ('Style[T.premium lager]', -0.37557007562471673),\n",
       " ('Style[T.german kristallweizen]', -0.43034118613648836),\n",
       " ('Style[T.radler]', -0.524202210208495),\n",
       " ('Style[T.low alcohol]', -0.5443839907484499),\n",
       " ('Style[T.perry]', -0.57916300507256535),\n",
       " ('Style[T.pale lager]', -1.0297035601010376),\n",
       " ('Style[T.malt liquor]', -1.6113120063891335)]"
      ]
     },
     "execution_count": 17,
>>>>>>> 966d6660d48ec06e6cc72fee31b519d0a6778b7f
>>>>>>> 782209238178425f25f0ebec44ae381d1610ca85
     "metadata": {},
     "output_type": "execute_result"
    }
   ],
   "source": [
    "list(zip(X_test.columns, lr.coef_)) #weights for individual features\n",
    "\n",
<<<<<<< HEAD
    "sorted([a for a in list(zip(X_test.columns, lr.coef_)) if np.abs(a[1]) > 0.03], key = lambda x: x[1], reverse=True)\n"
=======
<<<<<<< HEAD
    "sorted([a for a in list(zip(X_test.columns, lr.coef_)) if np.abs(a[1]) > 0.03], key = lambda x: x[1], reverse=True)\n"
=======
    "sorted([a for a in list(zip(X_test.columns, lr.coef_)) if np.abs(a[1]) > 0.1], key = lambda x: x[1], reverse=True)\n"
>>>>>>> 966d6660d48ec06e6cc72fee31b519d0a6778b7f
>>>>>>> 782209238178425f25f0ebec44ae381d1610ca85
   ]
  },
  {
   "cell_type": "code",
<<<<<<< HEAD
   "execution_count": 159,
   "metadata": {
    "scrolled": true
   },
   "outputs": [
    {
     "data": {
      "image/png": "iVBORw0KGgoAAAANSUhEUgAAAYoAAAETCAYAAAAoF0GbAAAABHNCSVQICAgIfAhkiAAAAAlwSFlz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\nDgozM8tyUJiZWZaDwszMsv4/oBdYuk9v69YAAAAASUVORK5CYII=\n",
      "text/plain": [
       "<matplotlib.figure.Figure at 0x204fc89f2b0>"
=======
<<<<<<< HEAD
   "execution_count": 96,
=======
   "execution_count": 20,
>>>>>>> 966d6660d48ec06e6cc72fee31b519d0a6778b7f
   "metadata": {},
   "outputs": [
    {
     "data": {
<<<<<<< HEAD
      "image/png": "iVBORw0KGgoAAAANSUhEUgAAAYMAAAETCAYAAADUAmpRAAAABHNCSVQICAgIfAhkiAAAAAlwSFlz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\n/H+KQ35pl71nYQAAAABJRU5ErkJggg==\n",
      "text/plain": [
       "<matplotlib.figure.Figure at 0x1c25f01ec18>"
=======
      "image/png": "iVBORw0KGgoAAAANSUhEUgAAAYMAAAETCAYAAADUAmpRAAAABHNCSVQICAgIfAhkiAAAAAlwSFlz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\nOAzMzAyHgZmZ4TAwMzMcBmZmBvwvggKx4UhR+4oAAAAASUVORK5CYII=\n",
      "text/plain": [
       "<matplotlib.figure.Figure at 0x1c260179b00>"
>>>>>>> 966d6660d48ec06e6cc72fee31b519d0a6778b7f
>>>>>>> 782209238178425f25f0ebec44ae381d1610ca85
      ]
     },
     "metadata": {},
     "output_type": "display_data"
    }
   ],
   "source": [
    "#Plotting histogram of residuals: checking the linear regression assumptions\n",
    "resid = lr.predict(X_test)-y_test\n",
    "plt.hist(resid);\n",
    "plt.xlabel('score');\n",
    "plt.ylabel('frequency');\n",
    "plt.title('Residual histogram, stdev = ' + str(\"{0:.2f}\".format(np.std(resid))));"
   ]
  },
  {
   "cell_type": "code",
<<<<<<< HEAD
   "execution_count": 160,
=======
<<<<<<< HEAD
   "execution_count": 97,
=======
   "execution_count": 32,
>>>>>>> 966d6660d48ec06e6cc72fee31b519d0a6778b7f
>>>>>>> 782209238178425f25f0ebec44ae381d1610ca85
   "metadata": {},
   "outputs": [
    {
     "data": {
<<<<<<< HEAD
      "image/png": "iVBORw0KGgoAAAANSUhEUgAAAYYAAAETCAYAAAAyK6EVAAAABHNCSVQICAgIfAhkiAAAAAlwSFlz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\nCJFEAoMQQogk/x8895HA6uT9EAAAAABJRU5ErkJggg==\n",
      "text/plain": [
       "<matplotlib.figure.Figure at 0x204fc68f978>"
=======
<<<<<<< HEAD
      "image/png": "iVBORw0KGgoAAAANSUhEUgAAAYYAAAETCAYAAAAyK6EVAAAABHNCSVQICAgIfAhkiAAAAAlwSFlz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\nIYQQKSQwCCGESPH/AYg/YG8Hm4LCAAAAAElFTkSuQmCC\n",
      "text/plain": [
       "<matplotlib.figure.Figure at 0x1c260b7f908>"
=======
      "image/png": "iVBORw0KGgoAAAANSUhEUgAAAYYAAAETCAYAAAAyK6EVAAAABHNCSVQICAgIfAhkiAAAAAlwSFlz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\n",
      "text/plain": [
       "<matplotlib.figure.Figure at 0x1c260c1a668>"
>>>>>>> 966d6660d48ec06e6cc72fee31b519d0a6778b7f
>>>>>>> 782209238178425f25f0ebec44ae381d1610ca85
      ]
     },
     "metadata": {},
     "output_type": "display_data"
    }
   ],
   "source": [
    "plt.scatter(lr.predict(X_test), resid);\n",
    "plt.plot([1,5], [0,0], 'r');\n",
<<<<<<< HEAD
    "plt.plot([1,5], [2*np.std(resid), 2*np.std(resid)], 'r--')\n",
    "plt.plot([1,5], [-2*np.std(resid), -2*np.std(resid)], 'r--')\n",
=======
<<<<<<< HEAD
    "plt.plot([1,5], [2*np.std(resid), 2*np.std(resid)], 'r--')\n",
    "plt.plot([1,5], [-2*np.std(resid), -2*np.std(resid)], 'r--')\n",
=======
>>>>>>> 966d6660d48ec06e6cc72fee31b519d0a6778b7f
>>>>>>> 782209238178425f25f0ebec44ae381d1610ca85
    "plt.xlabel('Predicted value')\n",
    "plt.ylabel('Residual')\n",
    "plt.title('Residual plot');\n",
    "#Residual plot"
   ]
  },
  {
   "cell_type": "code",
<<<<<<< HEAD
   "execution_count": 23,
=======
<<<<<<< HEAD
   "execution_count": 86,
=======
   "execution_count": 28,
>>>>>>> 966d6660d48ec06e6cc72fee31b519d0a6778b7f
>>>>>>> 782209238178425f25f0ebec44ae381d1610ca85
   "metadata": {},
   "outputs": [
    {
     "data": {
      "text/plain": [
<<<<<<< HEAD
       "0.00031264001309954173"
      ]
     },
     "execution_count": 23,
=======
<<<<<<< HEAD
       "-3.7096925242781586e-05"
      ]
     },
     "execution_count": 86,
=======
       "0.066049994033590104"
      ]
     },
     "execution_count": 28,
>>>>>>> 966d6660d48ec06e6cc72fee31b519d0a6778b7f
>>>>>>> 782209238178425f25f0ebec44ae381d1610ca85
     "metadata": {},
     "output_type": "execute_result"
    },
    {
     "data": {
<<<<<<< HEAD
      "image/png": "iVBORw0KGgoAAAANSUhEUgAAAYUAAAD3CAYAAADyvkg2AAAABHNCSVQICAgIfAhkiAAAAAlwSFlz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\nAAAASUVORK5CYII=\n",
      "text/plain": [
       "<matplotlib.figure.Figure at 0x204ef7b3048>"
=======
<<<<<<< HEAD
      "image/png": "iVBORw0KGgoAAAANSUhEUgAAAYUAAAD3CAYAAADyvkg2AAAABHNCSVQICAgIfAhkiAAAAAlwSFlz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\n",
      "text/plain": [
       "<matplotlib.figure.Figure at 0x1c25f21c0f0>"
=======
      "image/png": "iVBORw0KGgoAAAANSUhEUgAAAYUAAAD3CAYAAADyvkg2AAAABHNCSVQICAgIfAhkiAAAAAlwSFlz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\nFCRJhaEgSSoMBUlSYShIkor/A0m/VxwlVK/fAAAAAElFTkSuQmCC\n",
      "text/plain": [
       "<matplotlib.figure.Figure at 0x1c260b795f8>"
>>>>>>> 966d6660d48ec06e6cc72fee31b519d0a6778b7f
>>>>>>> 782209238178425f25f0ebec44ae381d1610ca85
      ]
     },
     "metadata": {},
     "output_type": "display_data"
    }
   ],
   "source": [
    "#are the errors correlated??\n",
<<<<<<< HEAD
=======
<<<<<<< HEAD
    "\n",
    "from itertools import product\n",
    "\n",
    "eiej = [ei*ej \n",
    "        for (i, ei), (j, ej) in product(enumerate(resid), repeat=2)\n",
    "        if i < j]\n",
    "\n",
=======
>>>>>>> 782209238178425f25f0ebec44ae381d1610ca85
    "\n",
    "from itertools import product\n",
    "\n",
    "eiej = [ei*ej \n",
    "        for (i, ei), (j, ej) in product(enumerate(resid), repeat=2)\n",
    "        if i < j]\n",
    "\n",
<<<<<<< HEAD
=======
>>>>>>> 966d6660d48ec06e6cc72fee31b519d0a6778b7f
>>>>>>> 782209238178425f25f0ebec44ae381d1610ca85
    "plt.hist(eiej);\n",
    "np.mean(eiej) #No."
   ]
  },
  {
   "cell_type": "code",
<<<<<<< HEAD
   "execution_count": 161,
=======
<<<<<<< HEAD
   "execution_count": 87,
=======
   "execution_count": 19,
>>>>>>> 966d6660d48ec06e6cc72fee31b519d0a6778b7f
>>>>>>> 782209238178425f25f0ebec44ae381d1610ca85
   "metadata": {},
   "outputs": [
    {
     "data": {
<<<<<<< HEAD
      "image/png": "iVBORw0KGgoAAAANSUhEUgAAAXcAAAEZCAYAAABsPmXUAAAABHNCSVQICAgIfAhkiAAAAAlwSFlz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\nkCR3IYRIQf8Pj87m65/kNcgAAAAASUVORK5CYII=\n",
      "text/plain": [
       "<matplotlib.figure.Figure at 0x204fc6e9240>"
=======
<<<<<<< HEAD
      "image/png": "iVBORw0KGgoAAAANSUhEUgAAAXcAAAEZCAYAAABsPmXUAAAABHNCSVQICAgIfAhkiAAAAAlwSFlz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\nchdCiCT0/2x6ZLWGXhl2AAAAAElFTkSuQmCC\n",
      "text/plain": [
       "<matplotlib.figure.Figure at 0x1c26356e9b0>"
=======
      "image/png": "iVBORw0KGgoAAAANSUhEUgAAAXcAAAEZCAYAAABsPmXUAAAABHNCSVQICAgIfAhkiAAAAAlwSFlz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\nqVGPDGlbzAAAAABJRU5ErkJggg==\n",
      "text/plain": [
       "<matplotlib.figure.Figure at 0x1c257ad85f8>"
>>>>>>> 966d6660d48ec06e6cc72fee31b519d0a6778b7f
>>>>>>> 782209238178425f25f0ebec44ae381d1610ca85
      ]
     },
     "metadata": {},
     "output_type": "display_data"
    }
   ],
   "source": [
    "xplt = lr.predict(X_test)\n",
    "yplt = y_test\n",
    "\n",
    "plt.scatter(xplt, yplt)\n",
    "plt.plot(np.arange(1,6), np.arange(1,6), 'r');\n",
    "plt.plot(np.arange(1,6), np.arange(1,6) + 2*np.std(resid), 'r--')\n",
    "plt.plot(np.arange(1,6), np.arange(1,6) - 2*np.std(resid), 'r--')\n",
    "plt.xlabel('Predicted score')\n",
    "plt.ylabel('Actual score')\n",
    "\n",
    "title = r'Beer ratings versus model predictions, $r^2$ = ' + \"{0:.2f}\".format(lr.score(X_test, y_test))\n",
    "plt.title(title);\n"
   ]
  },
  {
   "cell_type": "code",
   "execution_count": 152,
   "metadata": {},
   "outputs": [
    {
     "data": {
      "text/plain": [
       "0.947"
      ]
     },
     "execution_count": 152,
     "metadata": {},
     "output_type": "execute_result"
    }
   ],
   "source": [
    "#So how confident are we in our accuracy to 2 standard deviations??\n",
    "len(resid[(resid <= 2*np.std(resid)) & (resid >= -2*np.std(resid))])/len(resid)"
   ]
  },
  {
   "cell_type": "markdown",
   "metadata": {},
   "source": [
    "# Other"
   ]
  },
  {
   "cell_type": "code",
   "execution_count": 43,
   "metadata": {},
   "outputs": [
    {
     "data": {
      "text/plain": [
       "0.63969077077018466"
      ]
     },
     "execution_count": 43,
     "metadata": {},
     "output_type": "execute_result"
    }
   ],
   "source": [
    "#compute adjusted r^2\n",
    "\n",
    "n = x.shape[0]\n",
    "k = x.shape[1]\n",
    "\n",
    "adjr2 = 1-(n-1)/(n-k-1)*(1-lr.score(X_test,y_test))\n",
    "\n",
    "adjr2 #marginally less than normal r^2. Nothing to worry about"
   ]
  },
  {
   "cell_type": "code",
<<<<<<< HEAD
   "execution_count": 44,
=======
<<<<<<< HEAD
   "execution_count": 44,
=======
   "execution_count": 223,
>>>>>>> 966d6660d48ec06e6cc72fee31b519d0a6778b7f
>>>>>>> 782209238178425f25f0ebec44ae381d1610ca85
   "metadata": {
    "scrolled": true
   },
   "outputs": [
    {
     "data": {
      "text/plain": [
       "Style\n",
       "imperial stout           3.846667\n",
       "imperial porter          3.703800\n",
       "lambic style - gueuze    3.700000\n",
       "barley wine              3.679926\n",
       "sour red                 3.678846\n",
       "imperial ipa             3.661051\n",
       "baltic porter            3.657273\n",
       "sour                     3.626574\n",
       "foreign stout            3.625556\n",
       "lambic style - fruit     3.608000\n",
       "Name: WEIGHTED, dtype: float64"
      ]
     },
<<<<<<< HEAD
     "execution_count": 44,
=======
<<<<<<< HEAD
     "execution_count": 44,
=======
     "execution_count": 223,
>>>>>>> 966d6660d48ec06e6cc72fee31b519d0a6778b7f
>>>>>>> 782209238178425f25f0ebec44ae381d1610ca85
     "metadata": {},
     "output_type": "execute_result"
    }
   ],
   "source": [
    "#Which styles are the most popular for beer?\n",
    "a = df.groupby('Style')['WEIGHTED'].count().sort_values(ascending=False)\n",
    "a = a[a > 100]\n",
    "b = df.groupby('Style')['WEIGHTED'].mean().sort_values(ascending=False).head(10)\n",
    "\n",
    "b\n",
    "#there's no consistent way to get the best styles; too subjective"
   ]
  }
 ],
 "metadata": {
  "kernelspec": {
   "display_name": "Python 3",
   "language": "python",
   "name": "python3"
  },
  "language_info": {
   "codemirror_mode": {
    "name": "ipython",
    "version": 3
   },
   "file_extension": ".py",
   "mimetype": "text/x-python",
   "name": "python",
   "nbconvert_exporter": "python",
   "pygments_lexer": "ipython3",
   "version": "3.6.0"
  }
 },
 "nbformat": 4,
 "nbformat_minor": 2
}
